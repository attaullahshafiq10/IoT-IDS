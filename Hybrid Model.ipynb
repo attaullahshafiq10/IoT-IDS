{
 "cells": [
  {
   "cell_type": "code",
   "execution_count": null,
   "metadata": {
    "id": "DxR3GFowBmW5"
   },
   "outputs": [],
   "source": [
    "import pandas as pd\n",
    "import numpy as np\n",
    "from sklearn.model_selection import train_test_split,cross_val_score\n",
    "import lightgbm as lgb\n",
    "from sklearn.metrics import classification_report,confusion_matrix,accuracy_score, precision_score, recall_score, f1_score\n",
    "from sklearn.preprocessing import LabelEncoder\n",
    "from scipy.stats import shapiro\n",
    "\n",
    "\n",
    "from sklearn.metrics import classification_report,confusion_matrix,accuracy_score\n",
    "\n",
    "from sklearn.ensemble import RandomForestClassifier\n",
    "from sklearn.tree import DecisionTreeClassifier\n",
    "from sklearn.ensemble import GradientBoostingClassifier\n",
    "import xgboost as xgb\n",
    "from sklearn.svm import SVC\n",
    "from sklearn.ensemble import AdaBoostClassifier\n",
    "from sklearn.discriminant_analysis import LinearDiscriminantAnalysis\n",
    "from sklearn.discriminant_analysis import QuadraticDiscriminantAnalysis\n",
    "from sklearn.neural_network import MLPClassifier\n",
    "from sklearn.ensemble import IsolationForest\n",
    "\n",
    "from scipy.stats import genextreme\n",
    "import numpy as np\n",
    "\n",
    "from sklearn.pipeline import Pipeline\n",
    "\n",
    "from tensorflow.keras.layers import Conv2D, Dropout, Input, Flatten, Dense, Reshape, BatchNormalization\n",
    "from tensorflow.keras.layers import Input, Dense, Conv2D, MaxPooling2D, Flatten, Activation, Embedding, LSTM,MaxPool2D, Dropout, Conv1D, MaxPooling1D, LSTM, concatenate\n",
    "from tensorflow.keras.models import Sequential, Model\n",
    "from keras.utils.vis_utils import plot_model\n",
    "from keras.callbacks import ModelCheckpoint\n",
    "from keras.utils import np_utils\n",
    "from tensorflow.keras.optimizers.legacy import Adam\n",
    "from tensorflow.keras.initializers import GlorotUniform\n",
    "import tensorflow as tf\n",
    "import os\n",
    "import random as python_random\n",
    "\n",
    "from imblearn.over_sampling import SMOTE\n",
    "import time\n",
    "\n",
    "import warnings \n",
    "warnings.filterwarnings('ignore')"
   ]
  },
  {
   "cell_type": "code",
   "execution_count": null,
   "metadata": {
    "id": "3bw_RFhOvsJ2"
   },
   "outputs": [],
   "source": [
    "def random_seed_function(seed = 345):\n",
    "  # Set random seed for numpy\n",
    "  np.random.seed(seed)\n",
    "  # Set random seed for python\n",
    "  python_random.seed(seed)\n",
    "  # Set random seed for tensorflow\n",
    "  tf.random.set_seed(seed)\n",
    "  # Set environment variable for reproducibility\n",
    "  os.environ['TF_DETERMINISTIC_OPS'] = '1'\n",
    "  # GPU service\n",
    "  os.environ['CUDA_VISIBLE_DEVICES'] = '0'"
   ]
  },
  {
   "cell_type": "code",
   "execution_count": null,
   "metadata": {
    "id": "6pYqNCUJB9n0"
   },
   "outputs": [],
   "source": [
    "path_data = \"/content/drive/MyDrive/Research (Dr Inam Ullah - PHD)/\""
   ]
  },
  {
   "cell_type": "markdown",
   "metadata": {
    "id": "mUAe5KzKBzju"
   },
   "source": [
    "## First Dataset IoTID20"
   ]
  },
  {
   "cell_type": "code",
   "execution_count": null,
   "metadata": {
    "colab": {
     "base_uri": "https://localhost:8080/",
     "height": 487
    },
    "id": "2FnFb7XXB1SF",
    "outputId": "267247d0-c641-4653-8453-7451a10c5bce"
   },
   "outputs": [
    {
     "data": {
      "text/html": [
       "\n",
       "  <div id=\"df-1fc5beb1-25c6-478a-bc86-f98d4b3487e0\">\n",
       "    <div class=\"colab-df-container\">\n",
       "      <div>\n",
       "<style scoped>\n",
       "    .dataframe tbody tr th:only-of-type {\n",
       "        vertical-align: middle;\n",
       "    }\n",
       "\n",
       "    .dataframe tbody tr th {\n",
       "        vertical-align: top;\n",
       "    }\n",
       "\n",
       "    .dataframe thead th {\n",
       "        text-align: right;\n",
       "    }\n",
       "</style>\n",
       "<table border=\"1\" class=\"dataframe\">\n",
       "  <thead>\n",
       "    <tr style=\"text-align: right;\">\n",
       "      <th></th>\n",
       "      <th>Flow_ID</th>\n",
       "      <th>Src_IP</th>\n",
       "      <th>Src_Port</th>\n",
       "      <th>Dst_IP</th>\n",
       "      <th>Dst_Port</th>\n",
       "      <th>Timestamp</th>\n",
       "      <th>Flow_Duration</th>\n",
       "      <th>TotLen_Fwd_Pkts</th>\n",
       "      <th>TotLen_Bwd_Pkts</th>\n",
       "      <th>Bwd_Pkt_Len_Max</th>\n",
       "      <th>...</th>\n",
       "      <th>Fwd_Pkts/s</th>\n",
       "      <th>Bwd_Pkts/s</th>\n",
       "      <th>Pkt_Len_Std</th>\n",
       "      <th>FIN_Flag_Cnt</th>\n",
       "      <th>Pkt_Size_Avg</th>\n",
       "      <th>Init_Bwd_Win_Byts</th>\n",
       "      <th>Idle_Mean</th>\n",
       "      <th>Idle_Max</th>\n",
       "      <th>Idle_Min</th>\n",
       "      <th>Label</th>\n",
       "    </tr>\n",
       "  </thead>\n",
       "  <tbody>\n",
       "    <tr>\n",
       "      <th>0</th>\n",
       "      <td>12708</td>\n",
       "      <td>25886</td>\n",
       "      <td>53190</td>\n",
       "      <td>200</td>\n",
       "      <td>9020</td>\n",
       "      <td>3760</td>\n",
       "      <td>124</td>\n",
       "      <td>0.0</td>\n",
       "      <td>2776.0</td>\n",
       "      <td>1388.0</td>\n",
       "      <td>...</td>\n",
       "      <td>0.00</td>\n",
       "      <td>16129.03</td>\n",
       "      <td>0.00</td>\n",
       "      <td>0</td>\n",
       "      <td>2082.0</td>\n",
       "      <td>1869</td>\n",
       "      <td>124.00</td>\n",
       "      <td>124.0</td>\n",
       "      <td>124.0</td>\n",
       "      <td>1</td>\n",
       "    </tr>\n",
       "    <tr>\n",
       "      <th>1</th>\n",
       "      <td>60</td>\n",
       "      <td>25883</td>\n",
       "      <td>60357</td>\n",
       "      <td>110</td>\n",
       "      <td>7760</td>\n",
       "      <td>3649</td>\n",
       "      <td>46189</td>\n",
       "      <td>2528.0</td>\n",
       "      <td>0.0</td>\n",
       "      <td>0.0</td>\n",
       "      <td>...</td>\n",
       "      <td>43.30</td>\n",
       "      <td>43.30</td>\n",
       "      <td>698.97</td>\n",
       "      <td>0</td>\n",
       "      <td>632.0</td>\n",
       "      <td>126</td>\n",
       "      <td>15396.33</td>\n",
       "      <td>40225.0</td>\n",
       "      <td>1910.0</td>\n",
       "      <td>1</td>\n",
       "    </tr>\n",
       "    <tr>\n",
       "      <th>2</th>\n",
       "      <td>12695</td>\n",
       "      <td>25883</td>\n",
       "      <td>9020</td>\n",
       "      <td>203</td>\n",
       "      <td>52739</td>\n",
       "      <td>2261</td>\n",
       "      <td>73</td>\n",
       "      <td>1388.0</td>\n",
       "      <td>1388.0</td>\n",
       "      <td>1388.0</td>\n",
       "      <td>...</td>\n",
       "      <td>13698.63</td>\n",
       "      <td>13698.63</td>\n",
       "      <td>0.00</td>\n",
       "      <td>0</td>\n",
       "      <td>2082.0</td>\n",
       "      <td>1869</td>\n",
       "      <td>73.00</td>\n",
       "      <td>73.0</td>\n",
       "      <td>73.0</td>\n",
       "      <td>1</td>\n",
       "    </tr>\n",
       "    <tr>\n",
       "      <th>3</th>\n",
       "      <td>12690</td>\n",
       "      <td>25886</td>\n",
       "      <td>52717</td>\n",
       "      <td>200</td>\n",
       "      <td>9020</td>\n",
       "      <td>1963</td>\n",
       "      <td>149</td>\n",
       "      <td>0.0</td>\n",
       "      <td>0.0</td>\n",
       "      <td>0.0</td>\n",
       "      <td>...</td>\n",
       "      <td>13422.82</td>\n",
       "      <td>6711.41</td>\n",
       "      <td>0.00</td>\n",
       "      <td>0</td>\n",
       "      <td>0.0</td>\n",
       "      <td>32679</td>\n",
       "      <td>74.50</td>\n",
       "      <td>75.0</td>\n",
       "      <td>74.0</td>\n",
       "      <td>1</td>\n",
       "    </tr>\n",
       "    <tr>\n",
       "      <th>4</th>\n",
       "      <td>12690</td>\n",
       "      <td>25886</td>\n",
       "      <td>52717</td>\n",
       "      <td>200</td>\n",
       "      <td>9020</td>\n",
       "      <td>1905</td>\n",
       "      <td>83</td>\n",
       "      <td>0.0</td>\n",
       "      <td>0.0</td>\n",
       "      <td>0.0</td>\n",
       "      <td>...</td>\n",
       "      <td>12048.19</td>\n",
       "      <td>12048.19</td>\n",
       "      <td>0.00</td>\n",
       "      <td>0</td>\n",
       "      <td>0.0</td>\n",
       "      <td>32422</td>\n",
       "      <td>83.00</td>\n",
       "      <td>83.0</td>\n",
       "      <td>83.0</td>\n",
       "      <td>1</td>\n",
       "    </tr>\n",
       "    <tr>\n",
       "      <th>...</th>\n",
       "      <td>...</td>\n",
       "      <td>...</td>\n",
       "      <td>...</td>\n",
       "      <td>...</td>\n",
       "      <td>...</td>\n",
       "      <td>...</td>\n",
       "      <td>...</td>\n",
       "      <td>...</td>\n",
       "      <td>...</td>\n",
       "      <td>...</td>\n",
       "      <td>...</td>\n",
       "      <td>...</td>\n",
       "      <td>...</td>\n",
       "      <td>...</td>\n",
       "      <td>...</td>\n",
       "      <td>...</td>\n",
       "      <td>...</td>\n",
       "      <td>...</td>\n",
       "      <td>...</td>\n",
       "      <td>...</td>\n",
       "      <td>...</td>\n",
       "    </tr>\n",
       "    <tr>\n",
       "      <th>6247</th>\n",
       "      <td>12659</td>\n",
       "      <td>25886</td>\n",
       "      <td>10125</td>\n",
       "      <td>200</td>\n",
       "      <td>9020</td>\n",
       "      <td>1057</td>\n",
       "      <td>70</td>\n",
       "      <td>0.0</td>\n",
       "      <td>2776.0</td>\n",
       "      <td>1388.0</td>\n",
       "      <td>...</td>\n",
       "      <td>0.00</td>\n",
       "      <td>28571.43</td>\n",
       "      <td>0.00</td>\n",
       "      <td>0</td>\n",
       "      <td>2082.0</td>\n",
       "      <td>1869</td>\n",
       "      <td>70.00</td>\n",
       "      <td>70.0</td>\n",
       "      <td>70.0</td>\n",
       "      <td>1</td>\n",
       "    </tr>\n",
       "    <tr>\n",
       "      <th>6248</th>\n",
       "      <td>13708</td>\n",
       "      <td>25883</td>\n",
       "      <td>60158</td>\n",
       "      <td>233</td>\n",
       "      <td>8899</td>\n",
       "      <td>3264</td>\n",
       "      <td>40</td>\n",
       "      <td>128.0</td>\n",
       "      <td>32.0</td>\n",
       "      <td>32.0</td>\n",
       "      <td>...</td>\n",
       "      <td>100000.00</td>\n",
       "      <td>25000.00</td>\n",
       "      <td>0.00</td>\n",
       "      <td>0</td>\n",
       "      <td>38.4</td>\n",
       "      <td>-1</td>\n",
       "      <td>10.00</td>\n",
       "      <td>21.0</td>\n",
       "      <td>5.0</td>\n",
       "      <td>1</td>\n",
       "    </tr>\n",
       "    <tr>\n",
       "      <th>6249</th>\n",
       "      <td>7655</td>\n",
       "      <td>15614</td>\n",
       "      <td>8487</td>\n",
       "      <td>200</td>\n",
       "      <td>554</td>\n",
       "      <td>3697</td>\n",
       "      <td>1283</td>\n",
       "      <td>0.0</td>\n",
       "      <td>0.0</td>\n",
       "      <td>0.0</td>\n",
       "      <td>...</td>\n",
       "      <td>0.00</td>\n",
       "      <td>1558.85</td>\n",
       "      <td>0.00</td>\n",
       "      <td>0</td>\n",
       "      <td>0.0</td>\n",
       "      <td>14600</td>\n",
       "      <td>1283.00</td>\n",
       "      <td>1283.0</td>\n",
       "      <td>1283.0</td>\n",
       "      <td>1</td>\n",
       "    </tr>\n",
       "    <tr>\n",
       "      <th>6250</th>\n",
       "      <td>62696</td>\n",
       "      <td>25889</td>\n",
       "      <td>64783</td>\n",
       "      <td>233</td>\n",
       "      <td>9988</td>\n",
       "      <td>3192</td>\n",
       "      <td>222</td>\n",
       "      <td>96.0</td>\n",
       "      <td>32.0</td>\n",
       "      <td>32.0</td>\n",
       "      <td>...</td>\n",
       "      <td>13513.51</td>\n",
       "      <td>4504.50</td>\n",
       "      <td>0.00</td>\n",
       "      <td>0</td>\n",
       "      <td>40.0</td>\n",
       "      <td>-1</td>\n",
       "      <td>74.00</td>\n",
       "      <td>206.0</td>\n",
       "      <td>8.0</td>\n",
       "      <td>1</td>\n",
       "    </tr>\n",
       "    <tr>\n",
       "      <th>6251</th>\n",
       "      <td>47156</td>\n",
       "      <td>7</td>\n",
       "      <td>443</td>\n",
       "      <td>205</td>\n",
       "      <td>43238</td>\n",
       "      <td>3299</td>\n",
       "      <td>184</td>\n",
       "      <td>1441.0</td>\n",
       "      <td>1441.0</td>\n",
       "      <td>1441.0</td>\n",
       "      <td>...</td>\n",
       "      <td>5434.78</td>\n",
       "      <td>5434.78</td>\n",
       "      <td>0.00</td>\n",
       "      <td>0</td>\n",
       "      <td>2161.5</td>\n",
       "      <td>252</td>\n",
       "      <td>184.00</td>\n",
       "      <td>184.0</td>\n",
       "      <td>184.0</td>\n",
       "      <td>1</td>\n",
       "    </tr>\n",
       "  </tbody>\n",
       "</table>\n",
       "<p>6252 rows × 32 columns</p>\n",
       "</div>\n",
       "      <button class=\"colab-df-convert\" onclick=\"convertToInteractive('df-1fc5beb1-25c6-478a-bc86-f98d4b3487e0')\"\n",
       "              title=\"Convert this dataframe to an interactive table.\"\n",
       "              style=\"display:none;\">\n",
       "        \n",
       "  <svg xmlns=\"http://www.w3.org/2000/svg\" height=\"24px\"viewBox=\"0 0 24 24\"\n",
       "       width=\"24px\">\n",
       "    <path d=\"M0 0h24v24H0V0z\" fill=\"none\"/>\n",
       "    <path d=\"M18.56 5.44l.94 2.06.94-2.06 2.06-.94-2.06-.94-.94-2.06-.94 2.06-2.06.94zm-11 1L8.5 8.5l.94-2.06 2.06-.94-2.06-.94L8.5 2.5l-.94 2.06-2.06.94zm10 10l.94 2.06.94-2.06 2.06-.94-2.06-.94-.94-2.06-.94 2.06-2.06.94z\"/><path d=\"M17.41 7.96l-1.37-1.37c-.4-.4-.92-.59-1.43-.59-.52 0-1.04.2-1.43.59L10.3 9.45l-7.72 7.72c-.78.78-.78 2.05 0 2.83L4 21.41c.39.39.9.59 1.41.59.51 0 1.02-.2 1.41-.59l7.78-7.78 2.81-2.81c.8-.78.8-2.07 0-2.86zM5.41 20L4 18.59l7.72-7.72 1.47 1.35L5.41 20z\"/>\n",
       "  </svg>\n",
       "      </button>\n",
       "      \n",
       "  <style>\n",
       "    .colab-df-container {\n",
       "      display:flex;\n",
       "      flex-wrap:wrap;\n",
       "      gap: 12px;\n",
       "    }\n",
       "\n",
       "    .colab-df-convert {\n",
       "      background-color: #E8F0FE;\n",
       "      border: none;\n",
       "      border-radius: 50%;\n",
       "      cursor: pointer;\n",
       "      display: none;\n",
       "      fill: #1967D2;\n",
       "      height: 32px;\n",
       "      padding: 0 0 0 0;\n",
       "      width: 32px;\n",
       "    }\n",
       "\n",
       "    .colab-df-convert:hover {\n",
       "      background-color: #E2EBFA;\n",
       "      box-shadow: 0px 1px 2px rgba(60, 64, 67, 0.3), 0px 1px 3px 1px rgba(60, 64, 67, 0.15);\n",
       "      fill: #174EA6;\n",
       "    }\n",
       "\n",
       "    [theme=dark] .colab-df-convert {\n",
       "      background-color: #3B4455;\n",
       "      fill: #D2E3FC;\n",
       "    }\n",
       "\n",
       "    [theme=dark] .colab-df-convert:hover {\n",
       "      background-color: #434B5C;\n",
       "      box-shadow: 0px 1px 3px 1px rgba(0, 0, 0, 0.15);\n",
       "      filter: drop-shadow(0px 1px 2px rgba(0, 0, 0, 0.3));\n",
       "      fill: #FFFFFF;\n",
       "    }\n",
       "  </style>\n",
       "\n",
       "      <script>\n",
       "        const buttonEl =\n",
       "          document.querySelector('#df-1fc5beb1-25c6-478a-bc86-f98d4b3487e0 button.colab-df-convert');\n",
       "        buttonEl.style.display =\n",
       "          google.colab.kernel.accessAllowed ? 'block' : 'none';\n",
       "\n",
       "        async function convertToInteractive(key) {\n",
       "          const element = document.querySelector('#df-1fc5beb1-25c6-478a-bc86-f98d4b3487e0');\n",
       "          const dataTable =\n",
       "            await google.colab.kernel.invokeFunction('convertToInteractive',\n",
       "                                                     [key], {});\n",
       "          if (!dataTable) return;\n",
       "\n",
       "          const docLinkHtml = 'Like what you see? Visit the ' +\n",
       "            '<a target=\"_blank\" href=https://colab.research.google.com/notebooks/data_table.ipynb>data table notebook</a>'\n",
       "            + ' to learn more about interactive tables.';\n",
       "          element.innerHTML = '';\n",
       "          dataTable['output_type'] = 'display_data';\n",
       "          await google.colab.output.renderOutput(dataTable, element);\n",
       "          const docLink = document.createElement('div');\n",
       "          docLink.innerHTML = docLinkHtml;\n",
       "          element.appendChild(docLink);\n",
       "        }\n",
       "      </script>\n",
       "    </div>\n",
       "  </div>\n",
       "  "
      ],
      "text/plain": [
       "      Flow_ID  Src_IP  Src_Port  Dst_IP  Dst_Port  Timestamp  Flow_Duration  \\\n",
       "0       12708   25886     53190     200      9020       3760            124   \n",
       "1          60   25883     60357     110      7760       3649          46189   \n",
       "2       12695   25883      9020     203     52739       2261             73   \n",
       "3       12690   25886     52717     200      9020       1963            149   \n",
       "4       12690   25886     52717     200      9020       1905             83   \n",
       "...       ...     ...       ...     ...       ...        ...            ...   \n",
       "6247    12659   25886     10125     200      9020       1057             70   \n",
       "6248    13708   25883     60158     233      8899       3264             40   \n",
       "6249     7655   15614      8487     200       554       3697           1283   \n",
       "6250    62696   25889     64783     233      9988       3192            222   \n",
       "6251    47156       7       443     205     43238       3299            184   \n",
       "\n",
       "      TotLen_Fwd_Pkts  TotLen_Bwd_Pkts  Bwd_Pkt_Len_Max  ...  Fwd_Pkts/s  \\\n",
       "0                 0.0           2776.0           1388.0  ...        0.00   \n",
       "1              2528.0              0.0              0.0  ...       43.30   \n",
       "2              1388.0           1388.0           1388.0  ...    13698.63   \n",
       "3                 0.0              0.0              0.0  ...    13422.82   \n",
       "4                 0.0              0.0              0.0  ...    12048.19   \n",
       "...               ...              ...              ...  ...         ...   \n",
       "6247              0.0           2776.0           1388.0  ...        0.00   \n",
       "6248            128.0             32.0             32.0  ...   100000.00   \n",
       "6249              0.0              0.0              0.0  ...        0.00   \n",
       "6250             96.0             32.0             32.0  ...    13513.51   \n",
       "6251           1441.0           1441.0           1441.0  ...     5434.78   \n",
       "\n",
       "      Bwd_Pkts/s  Pkt_Len_Std  FIN_Flag_Cnt  Pkt_Size_Avg  Init_Bwd_Win_Byts  \\\n",
       "0       16129.03         0.00             0        2082.0               1869   \n",
       "1          43.30       698.97             0         632.0                126   \n",
       "2       13698.63         0.00             0        2082.0               1869   \n",
       "3        6711.41         0.00             0           0.0              32679   \n",
       "4       12048.19         0.00             0           0.0              32422   \n",
       "...          ...          ...           ...           ...                ...   \n",
       "6247    28571.43         0.00             0        2082.0               1869   \n",
       "6248    25000.00         0.00             0          38.4                 -1   \n",
       "6249     1558.85         0.00             0           0.0              14600   \n",
       "6250     4504.50         0.00             0          40.0                 -1   \n",
       "6251     5434.78         0.00             0        2161.5                252   \n",
       "\n",
       "      Idle_Mean  Idle_Max  Idle_Min  Label  \n",
       "0        124.00     124.0     124.0      1  \n",
       "1      15396.33   40225.0    1910.0      1  \n",
       "2         73.00      73.0      73.0      1  \n",
       "3         74.50      75.0      74.0      1  \n",
       "4         83.00      83.0      83.0      1  \n",
       "...         ...       ...       ...    ...  \n",
       "6247      70.00      70.0      70.0      1  \n",
       "6248      10.00      21.0       5.0      1  \n",
       "6249    1283.00    1283.0    1283.0      1  \n",
       "6250      74.00     206.0       8.0      1  \n",
       "6251     184.00     184.0     184.0      1  \n",
       "\n",
       "[6252 rows x 32 columns]"
      ]
     },
     "execution_count": 4,
     "metadata": {},
     "output_type": "execute_result"
    }
   ],
   "source": [
    "df_IoTID20 = pd.read_csv(path_data + \"IoT_2020_b_0.01.csv\")\n",
    "df_IoTID20"
   ]
  },
  {
   "cell_type": "markdown",
   "metadata": {
    "id": "cqNfMKCeCAer"
   },
   "source": [
    "# 1. Automated Data Pre-Processing"
   ]
  },
  {
   "cell_type": "markdown",
   "metadata": {
    "id": "k_CYNmuiCC-9"
   },
   "source": [
    "## Automated Transformation/Encoding\n",
    "Automatically identify and transform string/text features into numerical features to make the data more readable by ML models"
   ]
  },
  {
   "cell_type": "code",
   "execution_count": null,
   "metadata": {
    "id": "hqQplN8GCEx8"
   },
   "outputs": [],
   "source": [
    "# Define the automated data encoding function\n",
    "def Auto_Encoding(df_IoTID20):\n",
    "    cat_features=[x for x in df_IoTID20.columns if df_IoTID20[x].dtype==\"object\"] ## Find string/text features\n",
    "    le=LabelEncoder()\n",
    "    for col in cat_features:\n",
    "        if col in df_IoTID20.columns:\n",
    "            i = df_IoTID20.columns.get_loc(col)\n",
    "            # Transform to numerical features\n",
    "            df_IoTID20.iloc[:,i] = df_IoTID20.apply(lambda i:le.fit_transform(i.astype(str)), axis=0, result_type='expand')\n",
    "    return df_IoTID20"
   ]
  },
  {
   "cell_type": "code",
   "execution_count": null,
   "metadata": {
    "id": "MIzcx5QOCFca"
   },
   "outputs": [],
   "source": [
    "df_IoTID20=Auto_Encoding(df_IoTID20)"
   ]
  },
  {
   "cell_type": "markdown",
   "metadata": {
    "id": "ZkqslhFXCIHy"
   },
   "source": [
    "## Automated Imputation\n",
    "Detect and impute missing values to improve data quality"
   ]
  },
  {
   "cell_type": "code",
   "execution_count": null,
   "metadata": {
    "id": "vbTeGhSXCFVa"
   },
   "outputs": [],
   "source": [
    "# Define the automated data imputation function\n",
    "def Auto_Imputation(df_IoTID20):\n",
    "    if df_IoTID20.isnull().values.any() or np.isinf(df_IoTID20).values.any(): # if there is any empty or infinite values\n",
    "        df_IoTID20.replace([np.inf, -np.inf], np.nan, inplace=True)\n",
    "        df_IoTID20.fillna(0, inplace = True)  # Replace empty values with zeros; there are other imputation methods discussed in the paper\n",
    "    return df_IoTID20"
   ]
  },
  {
   "cell_type": "code",
   "execution_count": null,
   "metadata": {
    "id": "QiRa2AMMCFSj"
   },
   "outputs": [],
   "source": [
    "df_IoTID20=Auto_Imputation(df_IoTID20)"
   ]
  },
  {
   "cell_type": "markdown",
   "metadata": {
    "id": "UZY7wp3cCyVn"
   },
   "source": [
    "## Automated normalization\n",
    "Normalize the range of features to a similar scale to improve data quality"
   ]
  },
  {
   "cell_type": "code",
   "execution_count": null,
   "metadata": {
    "id": "Buplm-isC0Gm"
   },
   "outputs": [],
   "source": [
    "def Auto_Normalization(df_IoTID20):\n",
    "    stat, p = shapiro(df_IoTID20)\n",
    "    print('Statistics=%.3f, p=%.3f' % (stat, p))\n",
    "    # interpret\n",
    "    alpha = 0.05\n",
    "    numeric_features = df_IoTID20.drop(['Label'],axis = 1).dtypes[df_IoTID20.dtypes != 'object'].index\n",
    "    \n",
    "    # The selection strategy is based on the following article: \n",
    "    # https://medium.com/@kumarvaishnav17/standardization-vs-normalization-in-machine-learning-3e132a19c8bf\n",
    "    # Check if the data distribution follows a Gaussian/normal distribution\n",
    "    # If so, select the Z-score normalization method; otherwise, select the min-max normalization\n",
    "    # Details are in the paper\n",
    "    if p > alpha:\n",
    "        print('Sample looks Gaussian (fail to reject H0)')\n",
    "        df_IoTID20[numeric_features] = df_IoTID20[numeric_features].apply(\n",
    "            lambda x: (x - x.mean()) / (x.std()))\n",
    "        print('Z-score normalization is automatically chosen and used')\n",
    "    else:\n",
    "        print('Sample does not look Gaussian (reject H0)')\n",
    "        df_IoTID20[numeric_features] = df_IoTID20[numeric_features].apply(\n",
    "            lambda x: (x - x.min()) / (x.max()-x.min()))\n",
    "        print('Min-max normalization is automatically chosen and used')\n",
    "    return df_IoTID20"
   ]
  },
  {
   "cell_type": "code",
   "execution_count": null,
   "metadata": {
    "colab": {
     "base_uri": "https://localhost:8080/"
    },
    "id": "EI-lJ7xCC1vc",
    "outputId": "fd48474e-4253-49ea-ec94-1bc8b4c54f8a"
   },
   "outputs": [
    {
     "name": "stdout",
     "output_type": "stream",
     "text": [
      "Statistics=0.108, p=0.000\n",
      "Sample does not look Gaussian (reject H0)\n",
      "Min-max normalization is automatically chosen and used\n"
     ]
    }
   ],
   "source": [
    "df_IoTID20=Auto_Normalization(df_IoTID20)\n"
   ]
  },
  {
   "cell_type": "markdown",
   "metadata": {
    "id": "Hs4CtW7SC3hM"
   },
   "source": [
    "## Train-test split\n",
    "Split the dataset into the training and the test set"
   ]
  },
  {
   "cell_type": "code",
   "execution_count": null,
   "metadata": {
    "id": "R8BUbu9VC5Uj"
   },
   "outputs": [],
   "source": [
    "X_IoTID20 = df_IoTID20.drop(['Label'],axis=1)\n",
    "y_IoTID20 = df_IoTID20['Label']\n",
    "\n",
    "# Here we used the 80%/20% split, it can be changed based on specific tasks\n",
    "#X_train, X_test, y_train, y_test = train_test_split(X,y, train_size = 0.8, test_size = 0.2, shuffle=False,random_state = 0)\n",
    "X_train_IoTID20, X_test_IoTID20, y_train_IoTID20, y_test_IoTID20 = train_test_split(X_IoTID20,y_IoTID20, train_size = 0.8, test_size = 0.2,random_state = 0)"
   ]
  },
  {
   "cell_type": "markdown",
   "metadata": {
    "id": "MySE2OYKC7Hb"
   },
   "source": [
    "## Automated data balancing\n",
    "Generate minority class samples to solve class-imbalance and improve data quality.  \n",
    "Synthetic Minority Over-sampling Technique (SMOTE) method is used."
   ]
  },
  {
   "cell_type": "code",
   "execution_count": null,
   "metadata": {
    "colab": {
     "base_uri": "https://localhost:8080/"
    },
    "id": "T1BuzXONC9Nb",
    "outputId": "1de030a6-8240-4e26-d7ed-0f75ecc71bc4"
   },
   "outputs": [
    {
     "data": {
      "text/plain": [
       "1    4717\n",
       "0     284\n",
       "Name: Label, dtype: int64"
      ]
     },
     "execution_count": 12,
     "metadata": {},
     "output_type": "execute_result"
    }
   ],
   "source": [
    "pd.Series(y_train_IoTID20).value_counts()\n"
   ]
  },
  {
   "cell_type": "code",
   "execution_count": null,
   "metadata": {
    "id": "T0edIkvjC_Fg"
   },
   "outputs": [],
   "source": [
    "# For binary data (can be modified for multi-class data with the same logic)\n",
    "def Auto_Balancing(X_train_IoTID20, y_train_IoTID20):\n",
    "    number0 = pd.Series(y_train_IoTID20).value_counts().iloc[0]\n",
    "    number1 = pd.Series(y_train_IoTID20).value_counts().iloc[1]\n",
    "    \n",
    "    if number0 > number1:\n",
    "        nlarge = number0\n",
    "    else:\n",
    "        nlarge = number1\n",
    "    \n",
    "    # evaluate whether the incoming dataset is imbalanced (the abnormal/normal ratio is smaller than a threshold (e.g., 50%)) \n",
    "    if (number1/number0 > 1.5) or (number0/number1 > 1.5):\n",
    "        smote=SMOTE(n_jobs=-1,sampling_strategy={0:nlarge, 1:nlarge})\n",
    "        X_train_IoTID20, y_train_IoTID20 = smote.fit_resample(X_train_IoTID20, y_train_IoTID20)\n",
    "        \n",
    "    return X_train_IoTID20, y_train_IoTID20"
   ]
  },
  {
   "cell_type": "code",
   "execution_count": null,
   "metadata": {
    "id": "_HFbfxDRDVzi"
   },
   "outputs": [],
   "source": [
    "X_train_IoTID20, y_train_IoTID20 = Auto_Balancing(X_train_IoTID20, y_train_IoTID20)\n"
   ]
  },
  {
   "cell_type": "code",
   "execution_count": null,
   "metadata": {
    "colab": {
     "base_uri": "https://localhost:8080/"
    },
    "id": "Dn0BJL-ZDXBe",
    "outputId": "8295cf91-c993-4f03-db54-0d5a195c520b"
   },
   "outputs": [
    {
     "data": {
      "text/plain": [
       "1    4717\n",
       "0    4717\n",
       "Name: Label, dtype: int64"
      ]
     },
     "execution_count": 15,
     "metadata": {},
     "output_type": "execute_result"
    }
   ],
   "source": [
    "pd.Series(y_train_IoTID20).value_counts()\n"
   ]
  },
  {
   "cell_type": "markdown",
   "metadata": {
    "id": "moTSzUqgDYnQ"
   },
   "source": [
    "# Second Dataset CICIDS2017"
   ]
  },
  {
   "cell_type": "code",
   "execution_count": null,
   "metadata": {
    "colab": {
     "base_uri": "https://localhost:8080/",
     "height": 539
    },
    "id": "U5fzle4fDaMG",
    "outputId": "d7ee667b-12e4-49a9-f541-ceb92b3fdd7d"
   },
   "outputs": [
    {
     "data": {
      "text/html": [
       "\n",
       "  <div id=\"df-1672443f-fd12-41b7-8def-8e57593cfa75\">\n",
       "    <div class=\"colab-df-container\">\n",
       "      <div>\n",
       "<style scoped>\n",
       "    .dataframe tbody tr th:only-of-type {\n",
       "        vertical-align: middle;\n",
       "    }\n",
       "\n",
       "    .dataframe tbody tr th {\n",
       "        vertical-align: top;\n",
       "    }\n",
       "\n",
       "    .dataframe thead th {\n",
       "        text-align: right;\n",
       "    }\n",
       "</style>\n",
       "<table border=\"1\" class=\"dataframe\">\n",
       "  <thead>\n",
       "    <tr style=\"text-align: right;\">\n",
       "      <th></th>\n",
       "      <th>Flow Duration</th>\n",
       "      <th>Total Length of Fwd Packets</th>\n",
       "      <th>Fwd Packet Length Max</th>\n",
       "      <th>Fwd Packet Length Mean</th>\n",
       "      <th>Bwd Packet Length Max</th>\n",
       "      <th>Bwd Packet Length Min</th>\n",
       "      <th>Flow IAT Mean</th>\n",
       "      <th>Flow IAT Min</th>\n",
       "      <th>Fwd IAT Min</th>\n",
       "      <th>Fwd Header Length</th>\n",
       "      <th>Bwd Header Length</th>\n",
       "      <th>Fwd Packets/s</th>\n",
       "      <th>Bwd Packets/s</th>\n",
       "      <th>Min Packet Length</th>\n",
       "      <th>URG Flag Count</th>\n",
       "      <th>Down/Up Ratio</th>\n",
       "      <th>Init_Win_bytes_forward</th>\n",
       "      <th>Init_Win_bytes_backward</th>\n",
       "      <th>min_seg_size_forward</th>\n",
       "      <th>Labelb</th>\n",
       "    </tr>\n",
       "  </thead>\n",
       "  <tbody>\n",
       "    <tr>\n",
       "      <th>0</th>\n",
       "      <td>50833</td>\n",
       "      <td>0</td>\n",
       "      <td>0</td>\n",
       "      <td>0.0000</td>\n",
       "      <td>0</td>\n",
       "      <td>0</td>\n",
       "      <td>5.083300e+04</td>\n",
       "      <td>50833</td>\n",
       "      <td>0</td>\n",
       "      <td>32</td>\n",
       "      <td>32</td>\n",
       "      <td>19.672260</td>\n",
       "      <td>19.672260</td>\n",
       "      <td>0</td>\n",
       "      <td>1</td>\n",
       "      <td>1</td>\n",
       "      <td>319</td>\n",
       "      <td>153</td>\n",
       "      <td>32</td>\n",
       "      <td>0</td>\n",
       "    </tr>\n",
       "    <tr>\n",
       "      <th>1</th>\n",
       "      <td>49</td>\n",
       "      <td>0</td>\n",
       "      <td>0</td>\n",
       "      <td>0.0000</td>\n",
       "      <td>0</td>\n",
       "      <td>0</td>\n",
       "      <td>4.900000e+01</td>\n",
       "      <td>49</td>\n",
       "      <td>49</td>\n",
       "      <td>64</td>\n",
       "      <td>0</td>\n",
       "      <td>40816.326530</td>\n",
       "      <td>0.000000</td>\n",
       "      <td>0</td>\n",
       "      <td>0</td>\n",
       "      <td>0</td>\n",
       "      <td>277</td>\n",
       "      <td>-1</td>\n",
       "      <td>32</td>\n",
       "      <td>0</td>\n",
       "    </tr>\n",
       "    <tr>\n",
       "      <th>2</th>\n",
       "      <td>306</td>\n",
       "      <td>6</td>\n",
       "      <td>6</td>\n",
       "      <td>6.0000</td>\n",
       "      <td>6</td>\n",
       "      <td>6</td>\n",
       "      <td>3.060000e+02</td>\n",
       "      <td>306</td>\n",
       "      <td>0</td>\n",
       "      <td>20</td>\n",
       "      <td>20</td>\n",
       "      <td>3267.973856</td>\n",
       "      <td>3267.973856</td>\n",
       "      <td>6</td>\n",
       "      <td>0</td>\n",
       "      <td>1</td>\n",
       "      <td>0</td>\n",
       "      <td>0</td>\n",
       "      <td>20</td>\n",
       "      <td>0</td>\n",
       "    </tr>\n",
       "    <tr>\n",
       "      <th>3</th>\n",
       "      <td>63041</td>\n",
       "      <td>65</td>\n",
       "      <td>65</td>\n",
       "      <td>65.0000</td>\n",
       "      <td>124</td>\n",
       "      <td>124</td>\n",
       "      <td>6.304100e+04</td>\n",
       "      <td>63041</td>\n",
       "      <td>0</td>\n",
       "      <td>32</td>\n",
       "      <td>32</td>\n",
       "      <td>15.862693</td>\n",
       "      <td>15.862693</td>\n",
       "      <td>65</td>\n",
       "      <td>0</td>\n",
       "      <td>1</td>\n",
       "      <td>-1</td>\n",
       "      <td>-1</td>\n",
       "      <td>32</td>\n",
       "      <td>0</td>\n",
       "    </tr>\n",
       "    <tr>\n",
       "      <th>4</th>\n",
       "      <td>47682</td>\n",
       "      <td>43</td>\n",
       "      <td>43</td>\n",
       "      <td>43.0000</td>\n",
       "      <td>59</td>\n",
       "      <td>59</td>\n",
       "      <td>4.768200e+04</td>\n",
       "      <td>47682</td>\n",
       "      <td>0</td>\n",
       "      <td>32</td>\n",
       "      <td>32</td>\n",
       "      <td>20.972275</td>\n",
       "      <td>20.972275</td>\n",
       "      <td>43</td>\n",
       "      <td>0</td>\n",
       "      <td>1</td>\n",
       "      <td>-1</td>\n",
       "      <td>-1</td>\n",
       "      <td>32</td>\n",
       "      <td>0</td>\n",
       "    </tr>\n",
       "    <tr>\n",
       "      <th>...</th>\n",
       "      <td>...</td>\n",
       "      <td>...</td>\n",
       "      <td>...</td>\n",
       "      <td>...</td>\n",
       "      <td>...</td>\n",
       "      <td>...</td>\n",
       "      <td>...</td>\n",
       "      <td>...</td>\n",
       "      <td>...</td>\n",
       "      <td>...</td>\n",
       "      <td>...</td>\n",
       "      <td>...</td>\n",
       "      <td>...</td>\n",
       "      <td>...</td>\n",
       "      <td>...</td>\n",
       "      <td>...</td>\n",
       "      <td>...</td>\n",
       "      <td>...</td>\n",
       "      <td>...</td>\n",
       "      <td>...</td>\n",
       "    </tr>\n",
       "    <tr>\n",
       "      <th>28298</th>\n",
       "      <td>45</td>\n",
       "      <td>0</td>\n",
       "      <td>0</td>\n",
       "      <td>0.0000</td>\n",
       "      <td>0</td>\n",
       "      <td>0</td>\n",
       "      <td>4.500000e+01</td>\n",
       "      <td>45</td>\n",
       "      <td>0</td>\n",
       "      <td>32</td>\n",
       "      <td>32</td>\n",
       "      <td>22222.222220</td>\n",
       "      <td>22222.222220</td>\n",
       "      <td>0</td>\n",
       "      <td>1</td>\n",
       "      <td>1</td>\n",
       "      <td>349</td>\n",
       "      <td>307</td>\n",
       "      <td>32</td>\n",
       "      <td>0</td>\n",
       "    </tr>\n",
       "    <tr>\n",
       "      <th>28299</th>\n",
       "      <td>114309573</td>\n",
       "      <td>511</td>\n",
       "      <td>427</td>\n",
       "      <td>31.9375</td>\n",
       "      <td>746</td>\n",
       "      <td>0</td>\n",
       "      <td>3.941709e+06</td>\n",
       "      <td>94</td>\n",
       "      <td>165</td>\n",
       "      <td>332</td>\n",
       "      <td>424</td>\n",
       "      <td>0.139971</td>\n",
       "      <td>0.122474</td>\n",
       "      <td>0</td>\n",
       "      <td>0</td>\n",
       "      <td>0</td>\n",
       "      <td>8192</td>\n",
       "      <td>343</td>\n",
       "      <td>20</td>\n",
       "      <td>0</td>\n",
       "    </tr>\n",
       "    <tr>\n",
       "      <th>28300</th>\n",
       "      <td>48850</td>\n",
       "      <td>80</td>\n",
       "      <td>40</td>\n",
       "      <td>40.0000</td>\n",
       "      <td>72</td>\n",
       "      <td>72</td>\n",
       "      <td>1.628333e+04</td>\n",
       "      <td>1</td>\n",
       "      <td>48</td>\n",
       "      <td>64</td>\n",
       "      <td>64</td>\n",
       "      <td>40.941658</td>\n",
       "      <td>40.941658</td>\n",
       "      <td>40</td>\n",
       "      <td>0</td>\n",
       "      <td>1</td>\n",
       "      <td>-1</td>\n",
       "      <td>-1</td>\n",
       "      <td>32</td>\n",
       "      <td>0</td>\n",
       "    </tr>\n",
       "    <tr>\n",
       "      <th>28301</th>\n",
       "      <td>260</td>\n",
       "      <td>66</td>\n",
       "      <td>33</td>\n",
       "      <td>33.0000</td>\n",
       "      <td>97</td>\n",
       "      <td>97</td>\n",
       "      <td>8.666667e+01</td>\n",
       "      <td>48</td>\n",
       "      <td>48</td>\n",
       "      <td>40</td>\n",
       "      <td>40</td>\n",
       "      <td>7692.307692</td>\n",
       "      <td>7692.307692</td>\n",
       "      <td>33</td>\n",
       "      <td>0</td>\n",
       "      <td>1</td>\n",
       "      <td>-1</td>\n",
       "      <td>-1</td>\n",
       "      <td>20</td>\n",
       "      <td>0</td>\n",
       "    </tr>\n",
       "    <tr>\n",
       "      <th>28302</th>\n",
       "      <td>25</td>\n",
       "      <td>6</td>\n",
       "      <td>6</td>\n",
       "      <td>6.0000</td>\n",
       "      <td>6</td>\n",
       "      <td>6</td>\n",
       "      <td>2.500000e+01</td>\n",
       "      <td>25</td>\n",
       "      <td>0</td>\n",
       "      <td>20</td>\n",
       "      <td>20</td>\n",
       "      <td>40000.000000</td>\n",
       "      <td>40000.000000</td>\n",
       "      <td>6</td>\n",
       "      <td>1</td>\n",
       "      <td>1</td>\n",
       "      <td>11256</td>\n",
       "      <td>35000</td>\n",
       "      <td>20</td>\n",
       "      <td>0</td>\n",
       "    </tr>\n",
       "  </tbody>\n",
       "</table>\n",
       "<p>28303 rows × 20 columns</p>\n",
       "</div>\n",
       "      <button class=\"colab-df-convert\" onclick=\"convertToInteractive('df-1672443f-fd12-41b7-8def-8e57593cfa75')\"\n",
       "              title=\"Convert this dataframe to an interactive table.\"\n",
       "              style=\"display:none;\">\n",
       "        \n",
       "  <svg xmlns=\"http://www.w3.org/2000/svg\" height=\"24px\"viewBox=\"0 0 24 24\"\n",
       "       width=\"24px\">\n",
       "    <path d=\"M0 0h24v24H0V0z\" fill=\"none\"/>\n",
       "    <path d=\"M18.56 5.44l.94 2.06.94-2.06 2.06-.94-2.06-.94-.94-2.06-.94 2.06-2.06.94zm-11 1L8.5 8.5l.94-2.06 2.06-.94-2.06-.94L8.5 2.5l-.94 2.06-2.06.94zm10 10l.94 2.06.94-2.06 2.06-.94-2.06-.94-.94-2.06-.94 2.06-2.06.94z\"/><path d=\"M17.41 7.96l-1.37-1.37c-.4-.4-.92-.59-1.43-.59-.52 0-1.04.2-1.43.59L10.3 9.45l-7.72 7.72c-.78.78-.78 2.05 0 2.83L4 21.41c.39.39.9.59 1.41.59.51 0 1.02-.2 1.41-.59l7.78-7.78 2.81-2.81c.8-.78.8-2.07 0-2.86zM5.41 20L4 18.59l7.72-7.72 1.47 1.35L5.41 20z\"/>\n",
       "  </svg>\n",
       "      </button>\n",
       "      \n",
       "  <style>\n",
       "    .colab-df-container {\n",
       "      display:flex;\n",
       "      flex-wrap:wrap;\n",
       "      gap: 12px;\n",
       "    }\n",
       "\n",
       "    .colab-df-convert {\n",
       "      background-color: #E8F0FE;\n",
       "      border: none;\n",
       "      border-radius: 50%;\n",
       "      cursor: pointer;\n",
       "      display: none;\n",
       "      fill: #1967D2;\n",
       "      height: 32px;\n",
       "      padding: 0 0 0 0;\n",
       "      width: 32px;\n",
       "    }\n",
       "\n",
       "    .colab-df-convert:hover {\n",
       "      background-color: #E2EBFA;\n",
       "      box-shadow: 0px 1px 2px rgba(60, 64, 67, 0.3), 0px 1px 3px 1px rgba(60, 64, 67, 0.15);\n",
       "      fill: #174EA6;\n",
       "    }\n",
       "\n",
       "    [theme=dark] .colab-df-convert {\n",
       "      background-color: #3B4455;\n",
       "      fill: #D2E3FC;\n",
       "    }\n",
       "\n",
       "    [theme=dark] .colab-df-convert:hover {\n",
       "      background-color: #434B5C;\n",
       "      box-shadow: 0px 1px 3px 1px rgba(0, 0, 0, 0.15);\n",
       "      filter: drop-shadow(0px 1px 2px rgba(0, 0, 0, 0.3));\n",
       "      fill: #FFFFFF;\n",
       "    }\n",
       "  </style>\n",
       "\n",
       "      <script>\n",
       "        const buttonEl =\n",
       "          document.querySelector('#df-1672443f-fd12-41b7-8def-8e57593cfa75 button.colab-df-convert');\n",
       "        buttonEl.style.display =\n",
       "          google.colab.kernel.accessAllowed ? 'block' : 'none';\n",
       "\n",
       "        async function convertToInteractive(key) {\n",
       "          const element = document.querySelector('#df-1672443f-fd12-41b7-8def-8e57593cfa75');\n",
       "          const dataTable =\n",
       "            await google.colab.kernel.invokeFunction('convertToInteractive',\n",
       "                                                     [key], {});\n",
       "          if (!dataTable) return;\n",
       "\n",
       "          const docLinkHtml = 'Like what you see? Visit the ' +\n",
       "            '<a target=\"_blank\" href=https://colab.research.google.com/notebooks/data_table.ipynb>data table notebook</a>'\n",
       "            + ' to learn more about interactive tables.';\n",
       "          element.innerHTML = '';\n",
       "          dataTable['output_type'] = 'display_data';\n",
       "          await google.colab.output.renderOutput(dataTable, element);\n",
       "          const docLink = document.createElement('div');\n",
       "          docLink.innerHTML = docLinkHtml;\n",
       "          element.appendChild(docLink);\n",
       "        }\n",
       "      </script>\n",
       "    </div>\n",
       "  </div>\n",
       "  "
      ],
      "text/plain": [
       "       Flow Duration  Total Length of Fwd Packets  Fwd Packet Length Max  \\\n",
       "0              50833                            0                      0   \n",
       "1                 49                            0                      0   \n",
       "2                306                            6                      6   \n",
       "3              63041                           65                     65   \n",
       "4              47682                           43                     43   \n",
       "...              ...                          ...                    ...   \n",
       "28298             45                            0                      0   \n",
       "28299      114309573                          511                    427   \n",
       "28300          48850                           80                     40   \n",
       "28301            260                           66                     33   \n",
       "28302             25                            6                      6   \n",
       "\n",
       "       Fwd Packet Length Mean  Bwd Packet Length Max  Bwd Packet Length Min  \\\n",
       "0                      0.0000                      0                      0   \n",
       "1                      0.0000                      0                      0   \n",
       "2                      6.0000                      6                      6   \n",
       "3                     65.0000                    124                    124   \n",
       "4                     43.0000                     59                     59   \n",
       "...                       ...                    ...                    ...   \n",
       "28298                  0.0000                      0                      0   \n",
       "28299                 31.9375                    746                      0   \n",
       "28300                 40.0000                     72                     72   \n",
       "28301                 33.0000                     97                     97   \n",
       "28302                  6.0000                      6                      6   \n",
       "\n",
       "       Flow IAT Mean  Flow IAT Min  Fwd IAT Min  Fwd Header Length  \\\n",
       "0       5.083300e+04         50833            0                 32   \n",
       "1       4.900000e+01            49           49                 64   \n",
       "2       3.060000e+02           306            0                 20   \n",
       "3       6.304100e+04         63041            0                 32   \n",
       "4       4.768200e+04         47682            0                 32   \n",
       "...              ...           ...          ...                ...   \n",
       "28298   4.500000e+01            45            0                 32   \n",
       "28299   3.941709e+06            94          165                332   \n",
       "28300   1.628333e+04             1           48                 64   \n",
       "28301   8.666667e+01            48           48                 40   \n",
       "28302   2.500000e+01            25            0                 20   \n",
       "\n",
       "       Bwd Header Length  Fwd Packets/s  Bwd Packets/s  Min Packet Length  \\\n",
       "0                     32      19.672260      19.672260                  0   \n",
       "1                      0   40816.326530       0.000000                  0   \n",
       "2                     20    3267.973856    3267.973856                  6   \n",
       "3                     32      15.862693      15.862693                 65   \n",
       "4                     32      20.972275      20.972275                 43   \n",
       "...                  ...            ...            ...                ...   \n",
       "28298                 32   22222.222220   22222.222220                  0   \n",
       "28299                424       0.139971       0.122474                  0   \n",
       "28300                 64      40.941658      40.941658                 40   \n",
       "28301                 40    7692.307692    7692.307692                 33   \n",
       "28302                 20   40000.000000   40000.000000                  6   \n",
       "\n",
       "       URG Flag Count  Down/Up Ratio  Init_Win_bytes_forward  \\\n",
       "0                   1              1                     319   \n",
       "1                   0              0                     277   \n",
       "2                   0              1                       0   \n",
       "3                   0              1                      -1   \n",
       "4                   0              1                      -1   \n",
       "...               ...            ...                     ...   \n",
       "28298               1              1                     349   \n",
       "28299               0              0                    8192   \n",
       "28300               0              1                      -1   \n",
       "28301               0              1                      -1   \n",
       "28302               1              1                   11256   \n",
       "\n",
       "       Init_Win_bytes_backward  min_seg_size_forward  Labelb  \n",
       "0                          153                    32       0  \n",
       "1                           -1                    32       0  \n",
       "2                            0                    20       0  \n",
       "3                           -1                    32       0  \n",
       "4                           -1                    32       0  \n",
       "...                        ...                   ...     ...  \n",
       "28298                      307                    32       0  \n",
       "28299                      343                    20       0  \n",
       "28300                       -1                    32       0  \n",
       "28301                       -1                    20       0  \n",
       "28302                    35000                    20       0  \n",
       "\n",
       "[28303 rows x 20 columns]"
      ]
     },
     "execution_count": 16,
     "metadata": {},
     "output_type": "execute_result"
    }
   ],
   "source": [
    "df_cicids2017 = pd.read_csv(path_data + \"cic_0.01km.csv\")\n",
    "df_cicids2017"
   ]
  },
  {
   "cell_type": "code",
   "execution_count": null,
   "metadata": {
    "id": "PDznt9d-DcZO"
   },
   "outputs": [],
   "source": [
    "# Define the automated data encoding function\n",
    "def Auto_Encoding(df_cicids2017):\n",
    "    cat_features=[x for x in df_cicids2017.columns if df_cicids2017[x].dtype==\"object\"] ## Find string/text features\n",
    "    le=LabelEncoder()\n",
    "    for col in cat_features:\n",
    "        if col in df_cicids2017.columns:\n",
    "            i = df_cicids2017.columns.get_loc(col)\n",
    "            # Transform to numerical features\n",
    "            df_cicids2017.iloc[:,i] = df_cicids2017.apply(lambda i:le.fit_transform(i.astype(str)), axis=0, result_type='expand')\n",
    "    return df_cicids2017\n",
    "\n",
    "df_cicids2017=Auto_Encoding(df_cicids2017)"
   ]
  },
  {
   "cell_type": "code",
   "execution_count": null,
   "metadata": {
    "id": "y9Le4fThDfel"
   },
   "outputs": [],
   "source": [
    "# Define the automated data imputation function\n",
    "def Auto_Imputation(df_cicids2017):\n",
    "    if df_cicids2017.isnull().values.any() or np.isinf(df_cicids2017).values.any(): # if there is any empty or infinite values\n",
    "        df_cicids2017.replace([np.inf, -np.inf], np.nan, inplace=True)\n",
    "        df_cicids2017.fillna(0, inplace = True)  # Replace empty values with zeros; there are other imputation methods discussed in the paper\n",
    "    return df_cicids2017\n",
    "\n",
    "df_cicids2017=Auto_Imputation(df_cicids2017)"
   ]
  },
  {
   "cell_type": "code",
   "execution_count": null,
   "metadata": {
    "colab": {
     "base_uri": "https://localhost:8080/"
    },
    "id": "jEteKXJzDhFQ",
    "outputId": "c71d7390-4d1b-487a-c014-952fbf3b7209"
   },
   "outputs": [
    {
     "name": "stdout",
     "output_type": "stream",
     "text": [
      "Statistics=0.076, p=0.000\n",
      "Sample does not look Gaussian (reject H0)\n",
      "Min-max normalization is automatically chosen and used\n"
     ]
    }
   ],
   "source": [
    "def Auto_Normalization(df_cicids2017):\n",
    "    stat, p = shapiro(df_cicids2017)\n",
    "    print('Statistics=%.3f, p=%.3f' % (stat, p))\n",
    "    # interpret\n",
    "    alpha = 0.05\n",
    "    numeric_features = df_cicids2017.drop(['Labelb'],axis = 1).dtypes[df_cicids2017.dtypes != 'object'].index\n",
    "    \n",
    "    # The selection strategy is based on the following article: \n",
    "    # https://medium.com/@kumarvaishnav17/standardization-vs-normalization-in-machine-learning-3e132a19c8bf\n",
    "    # Check if the data distribution follows a Gaussian/normal distribution\n",
    "    # If so, select the Z-score normalization method; otherwise, select the min-max normalization\n",
    "    # Details are in the paper\n",
    "    if p > alpha:\n",
    "        print('Sample looks Gaussian (fail to reject H0)')\n",
    "        df_cicids2017[numeric_features] = df_cicids2017[numeric_features].apply(\n",
    "            lambda x: (x - x.mean()) / (x.std()))\n",
    "        print('Z-score normalization is automatically chosen and used')\n",
    "    else:\n",
    "        print('Sample does not look Gaussian (reject H0)')\n",
    "        df_cicids2017[numeric_features] = df_cicids2017[numeric_features].apply(\n",
    "            lambda x: (x - x.min()) / (x.max()-x.min()))\n",
    "        print('Min-max normalization is automatically chosen and used')\n",
    "    return df_cicids2017\n",
    "\n",
    "df_cicids2017=Auto_Normalization(df_cicids2017)"
   ]
  },
  {
   "cell_type": "code",
   "execution_count": null,
   "metadata": {
    "id": "WyvP7T28Di65"
   },
   "outputs": [],
   "source": [
    "X_cicids2017 = df_cicids2017.drop(['Labelb'],axis=1)\n",
    "y_cicids2017 = df_cicids2017['Labelb']\n",
    "\n",
    "# Here we used the 80%/20% split, it can be changed based on specific tasks\n",
    "#X_train, X_test, y_train, y_test = train_test_split(X,y, train_size = 0.8, test_size = 0.2, shuffle=False,random_state = 0)\n",
    "X_train_cicids2017, X_test_cicids2017, y_train_cicids2017, y_test_cicids2017 = train_test_split(X_cicids2017,y_cicids2017, train_size = 0.8, test_size = 0.2,random_state = 0)"
   ]
  },
  {
   "cell_type": "code",
   "execution_count": null,
   "metadata": {
    "colab": {
     "base_uri": "https://localhost:8080/"
    },
    "id": "ib1C1sClDkKz",
    "outputId": "a663678c-81c8-4337-d35f-ea57ccc95aaa"
   },
   "outputs": [
    {
     "data": {
      "text/plain": [
       "0    18126\n",
       "1     4516\n",
       "Name: Labelb, dtype: int64"
      ]
     },
     "execution_count": 21,
     "metadata": {},
     "output_type": "execute_result"
    }
   ],
   "source": [
    "pd.Series(y_train_cicids2017).value_counts()\n"
   ]
  },
  {
   "cell_type": "code",
   "execution_count": null,
   "metadata": {
    "id": "5_2eMU7EDl38"
   },
   "outputs": [],
   "source": [
    "# For binary data (can be modified for multi-class data with the same logic)\n",
    "def Auto_Balancing(X_train_cicids2017, y_train_cicids2017):\n",
    "    number0 = pd.Series(y_train_cicids2017).value_counts().iloc[0]\n",
    "    number1 = pd.Series(y_train_cicids2017).value_counts().iloc[1]\n",
    "    \n",
    "    if number0 > number1:\n",
    "        nlarge = number0\n",
    "    else:\n",
    "        nlarge = number1\n",
    "    \n",
    "    # evaluate whether the incoming dataset is imbalanced (the abnormal/normal ratio is smaller than a threshold (e.g., 50%)) \n",
    "    if (number1/number0 > 1.5) or (number0/number1 > 1.5):\n",
    "        smote=SMOTE(n_jobs=-1,sampling_strategy={0:nlarge, 1:nlarge})\n",
    "        X_train_cicids2017, y_train_cicids2017 = smote.fit_resample(X_train_cicids2017, y_train_cicids2017)\n",
    "        \n",
    "    return X_train_cicids2017, y_train_cicids2017"
   ]
  },
  {
   "cell_type": "code",
   "execution_count": null,
   "metadata": {
    "id": "DMZcqLqPDnld"
   },
   "outputs": [],
   "source": [
    "X_train_cicids2017, y_train_cicids2017 = Auto_Balancing(X_train_cicids2017, y_train_cicids2017)\n"
   ]
  },
  {
   "cell_type": "code",
   "execution_count": null,
   "metadata": {
    "colab": {
     "base_uri": "https://localhost:8080/"
    },
    "id": "Nd6eVCs7Do7P",
    "outputId": "57d715e5-4460-45c0-c252-62becea1517c"
   },
   "outputs": [
    {
     "data": {
      "text/plain": [
       "0    18126\n",
       "1    18126\n",
       "Name: Labelb, dtype: int64"
      ]
     },
     "execution_count": 24,
     "metadata": {},
     "output_type": "execute_result"
    }
   ],
   "source": [
    "pd.Series(y_train_cicids2017).value_counts()\n"
   ]
  },
  {
   "cell_type": "markdown",
   "metadata": {
    "id": "W79K85PJDrON"
   },
   "source": [
    "## Machine Learning Models"
   ]
  },
  {
   "cell_type": "code",
   "execution_count": null,
   "metadata": {
    "colab": {
     "base_uri": "https://localhost:8080/"
    },
    "id": "BxivFnEJnKAs",
    "outputId": "dd48b9eb-c77b-4217-a31d-b15d771665c0"
   },
   "outputs": [
    {
     "data": {
      "text/plain": [
       "((9434, 31), (1251, 31), (9434,), (1251,))"
      ]
     },
     "execution_count": 25,
     "metadata": {},
     "output_type": "execute_result"
    }
   ],
   "source": [
    "X_train_IoTID20.shape, X_test_IoTID20.shape, y_train_IoTID20.shape, y_test_IoTID20.shape"
   ]
  },
  {
   "cell_type": "code",
   "execution_count": null,
   "metadata": {
    "colab": {
     "base_uri": "https://localhost:8080/"
    },
    "id": "DDT4mpfmnNsu",
    "outputId": "c75f5bc1-a083-48fb-81e6-c079ff9b3f49"
   },
   "outputs": [
    {
     "data": {
      "text/plain": [
       "((36252, 19), (5661, 19), (36252,), (5661,))"
      ]
     },
     "execution_count": 26,
     "metadata": {},
     "output_type": "execute_result"
    }
   ],
   "source": [
    "X_train_cicids2017.shape, X_test_cicids2017.shape, y_train_cicids2017.shape, y_test_cicids2017.shape"
   ]
  },
  {
   "cell_type": "markdown",
   "metadata": {
    "id": "gShYOyLDEf19"
   },
   "source": [
    "### Linear Discriminant Analysis (LDA) IoTID20"
   ]
  },
  {
   "cell_type": "code",
   "execution_count": null,
   "metadata": {
    "colab": {
     "base_uri": "https://localhost:8080/"
    },
    "id": "axMgk14pEgh0",
    "outputId": "a5fb3f26-0653-4e4a-cdc4-d27f995cbac0"
   },
   "outputs": [
    {
     "name": "stdout",
     "output_type": "stream",
     "text": [
      "Accuracy: 95.4436500%\n",
      "Precision: 99.3810800%\n",
      "Recall: 95.7410600%\n",
      "F1-Score: 97.5271100%\n",
      "Time: 67.19021\n"
     ]
    }
   ],
   "source": [
    "lda = LinearDiscriminantAnalysis()\n",
    "t1 = time.time()\n",
    "lda.fit(X_train_IoTID20, y_train_IoTID20)\n",
    "t2 = time.time()\n",
    "predictions = lda.predict(X_test_IoTID20)\n",
    "LDA_accuracy_IoTID20 = round(accuracy_score(y_test_IoTID20, predictions), 7) * 100\n",
    "LDA_precision_IoTID20 = round(precision_score(y_test_IoTID20, predictions), 7) * 100\n",
    "LDA_recall_IoTID20 = round(recall_score(y_test_IoTID20, predictions), 7) * 100\n",
    "LDA_f1_IoTID20 = round(f1_score(y_test_IoTID20, predictions), 7) * 100\n",
    "print(\"Accuracy: {:.7f}%\".format(LDA_accuracy_IoTID20))\n",
    "print(\"Precision: {:.7f}%\".format(LDA_precision_IoTID20))\n",
    "print(\"Recall: {:.7f}%\".format(LDA_recall_IoTID20))\n",
    "print(\"F1-Score: {:.7f}%\".format(LDA_f1_IoTID20))\n",
    "print(\"Time: {:.5f}\".format((t2 - t1) / len(y_test_IoTID20) * 1000000))"
   ]
  },
  {
   "cell_type": "markdown",
   "metadata": {
    "id": "7fXPZXOWEjss"
   },
   "source": [
    "### Linear Discriminant Analysis (LDA) CICIDS2017"
   ]
  },
  {
   "cell_type": "code",
   "execution_count": null,
   "metadata": {
    "colab": {
     "base_uri": "https://localhost:8080/"
    },
    "id": "Annc6dV6ElDD",
    "outputId": "6d32b2b9-6d11-4cff-8147-a9784cff8208"
   },
   "outputs": [
    {
     "name": "stdout",
     "output_type": "stream",
     "text": [
      "LDA_Accuracy_CICIDS2017: 85.6032500%\n",
      "LDA_Precision_CICIDS2017: 58.5825000%\n",
      "LDA_Recall_CICIDS2017: 94.0444400%\n",
      "LDA_F1-score_CICIDS2017: 72.1937900%\n",
      "LDA_Time_CICIDS2017: 34.64099\n"
     ]
    }
   ],
   "source": [
    "lda = LinearDiscriminantAnalysis()\n",
    "t1 = time.time()\n",
    "lda.fit(X_train_cicids2017, y_train_cicids2017)\n",
    "t2 = time.time()\n",
    "predictions = lda.predict(X_test_cicids2017)\n",
    "LDA_accuracy_CICIDS2017 = round(accuracy_score(y_test_cicids2017, predictions), 7) * 100\n",
    "LDA_precision_CICIDS2017 = round(precision_score(y_test_cicids2017, predictions), 7) * 100\n",
    "LDA_recall_CICIDS2017 = round(recall_score(y_test_cicids2017, predictions), 7) * 100\n",
    "LDA_f1_CICIDS2017 = round(f1_score(y_test_cicids2017, predictions), 7) * 100\n",
    "print(\"LDA_Accuracy_CICIDS2017: {:.7f}%\".format(LDA_accuracy_CICIDS2017))\n",
    "print(\"LDA_Precision_CICIDS2017: {:.7f}%\".format(LDA_precision_CICIDS2017))\n",
    "print(\"LDA_Recall_CICIDS2017: {:.7f}%\".format(LDA_recall_CICIDS2017))\n",
    "print(\"LDA_F1-score_CICIDS2017: {:.7f}%\".format(LDA_f1_CICIDS2017))\n",
    "print(\"LDA_Time_CICIDS2017: {:.5f}\".format((t2 - t1) / len(y_test_cicids2017) * 1000000))"
   ]
  },
  {
   "cell_type": "markdown",
   "metadata": {
    "id": "v3WWgi8sEmq_"
   },
   "source": [
    "### Quadratic Discriminant Analysis IoTID20"
   ]
  },
  {
   "cell_type": "code",
   "execution_count": null,
   "metadata": {
    "colab": {
     "base_uri": "https://localhost:8080/"
    },
    "id": "XwG_a_vhEn8H",
    "outputId": "3b8103be-9bd9-4764-f1de-54a3395e474d"
   },
   "outputs": [
    {
     "name": "stdout",
     "output_type": "stream",
     "text": [
      "Accuracy: 75.7793800%\n",
      "Precision: 99.8854500%\n",
      "Recall: 74.2759800%\n",
      "F1-Score: 85.1978500%\n",
      "Time: 28.81568\n"
     ]
    }
   ],
   "source": [
    "qda_model = QuadraticDiscriminantAnalysis()\n",
    "t1 = time.time()\n",
    "qda_model.fit(X_train_IoTID20, y_train_IoTID20)\n",
    "t2 = time.time()\n",
    "predictions = qda_model.predict(X_test_IoTID20)\n",
    "QDA_accuracy_IoTID20 = round(accuracy_score(y_test_IoTID20, predictions), 7) * 100\n",
    "QDA_precision_IoTID20 = round(precision_score(y_test_IoTID20, predictions), 7) * 100\n",
    "QDA_recall_IoTID20 = round(recall_score(y_test_IoTID20, predictions), 7) * 100\n",
    "QDA_f1_IoTID20 = round(f1_score(y_test_IoTID20, predictions), 7) * 100\n",
    "print(\"Accuracy: {:.7f}%\".format(QDA_accuracy_IoTID20))\n",
    "print(\"Precision: {:.7f}%\".format(QDA_precision_IoTID20))\n",
    "print(\"Recall: {:.7f}%\".format(QDA_recall_IoTID20))\n",
    "print(\"F1-Score: {:.7f}%\".format(QDA_f1_IoTID20))\n",
    "print(\"Time: {:.5f}\".format((t2 - t1) / len(y_test_IoTID20) * 1000000))"
   ]
  },
  {
   "cell_type": "markdown",
   "metadata": {
    "id": "3MGaPjTtEpkr"
   },
   "source": [
    "### Quadratic Discriminant Analysis CICIDS2017"
   ]
  },
  {
   "cell_type": "code",
   "execution_count": null,
   "metadata": {
    "colab": {
     "base_uri": "https://localhost:8080/"
    },
    "id": "rW3E-FR_Eq3T",
    "outputId": "3d2ceb5d-3e4e-4f0d-9c55-7385a602173c"
   },
   "outputs": [
    {
     "name": "stdout",
     "output_type": "stream",
     "text": [
      "Accuracy: 80.5334700%\n",
      "Precision: 50.5351300%\n",
      "Recall: 96.5333300%\n",
      "F1-Score: 66.3408700%\n",
      "Time: 7.43486\n"
     ]
    }
   ],
   "source": [
    "qda_model = QuadraticDiscriminantAnalysis()\n",
    "t1 = time.time()\n",
    "qda_model.fit(X_train_cicids2017, y_train_cicids2017)\n",
    "t2 = time.time()\n",
    "predictions = qda_model.predict(X_test_cicids2017)\n",
    "QDA_accuracy_CICIDS2017 = round(accuracy_score(y_test_cicids2017, predictions), 7) * 100\n",
    "QDA_precision_CICIDS2017 = round(precision_score(y_test_cicids2017, predictions), 7) * 100\n",
    "QDA_recall_CICIDS2017 = round(recall_score(y_test_cicids2017, predictions), 7) * 100\n",
    "QDA_f1_CICIDS2017 = round(f1_score(y_test_cicids2017, predictions), 7) * 100\n",
    "print(\"Accuracy: {:.7f}%\".format(QDA_accuracy_CICIDS2017))\n",
    "print(\"Precision: {:.7f}%\".format(QDA_precision_CICIDS2017))\n",
    "print(\"Recall: {:.7f}%\".format(QDA_recall_CICIDS2017))\n",
    "print(\"F1-Score: {:.7f}%\".format(QDA_f1_CICIDS2017))\n",
    "print(\"Time: {:.5f}\".format((t2 - t1) / len(y_test_cicids2017) * 1000000))"
   ]
  },
  {
   "cell_type": "markdown",
   "metadata": {
    "id": "e0xC57ZBEsbk"
   },
   "source": [
    "### Support Vector Machine (SVM) IoTID20"
   ]
  },
  {
   "cell_type": "code",
   "execution_count": null,
   "metadata": {
    "colab": {
     "base_uri": "https://localhost:8080/"
    },
    "id": "LPc6hZw6Et-q",
    "outputId": "1d380c7e-3049-4e21-a27c-c9584115152b"
   },
   "outputs": [
    {
     "name": "stdout",
     "output_type": "stream",
     "text": [
      "Accuracy: 94.7242200%\n",
      "Precision: 99.2007100%\n",
      "Recall: 95.1448000%\n",
      "F1-Score: 97.1304300%\n",
      "Training Time: 1.07008 seconds\n"
     ]
    }
   ],
   "source": [
    "svm = SVC(kernel='linear', C=1)\n",
    "t1 = time.time()\n",
    "svm.fit(X_train_IoTID20, y_train_IoTID20)\n",
    "t2 = time.time()\n",
    "predictions = svm.predict(X_test_IoTID20)\n",
    "SVM_accuracy_IoTID20 = round(accuracy_score(y_test_IoTID20, predictions), 7) * 100\n",
    "SVM_precision_IoTID20 = round(precision_score(y_test_IoTID20, predictions), 7) * 100\n",
    "SVM_recall_IoTID20 = round(recall_score(y_test_IoTID20, predictions), 7) * 100\n",
    "SVM_f1_IoTID20 = round(f1_score(y_test_IoTID20, predictions), 7) * 100\n",
    "print(\"Accuracy: {:.7f}%\".format(SVM_accuracy_IoTID20))\n",
    "print(\"Precision: {:.7f}%\".format(SVM_precision_IoTID20))\n",
    "print(\"Recall: {:.7f}%\".format(SVM_recall_IoTID20))\n",
    "print(\"F1-Score: {:.7f}%\".format(SVM_f1_IoTID20))\n",
    "print(\"Training Time: {:.5f} seconds\".format(t2 - t1))"
   ]
  },
  {
   "cell_type": "markdown",
   "metadata": {
    "id": "AuDm5mS6Evtj"
   },
   "source": [
    "### Support Vector Machine (SVM) CICIDS2017"
   ]
  },
  {
   "cell_type": "code",
   "execution_count": null,
   "metadata": {
    "colab": {
     "base_uri": "https://localhost:8080/"
    },
    "id": "Lk6U6IMcExGX",
    "outputId": "7a10b278-78ab-4885-8d8e-8e519352916c"
   },
   "outputs": [
    {
     "name": "stdout",
     "output_type": "stream",
     "text": [
      "Accuracy: 88.4472700%\n",
      "Precision: 64.0262100%\n",
      "Recall: 95.5555600%\n",
      "F1-Score: 76.6761800%\n",
      "Training Time: 24.55193 seconds\n"
     ]
    }
   ],
   "source": [
    "svm = SVC(kernel='linear', C=1)\n",
    "t1 = time.time()\n",
    "svm.fit(X_train_cicids2017, y_train_cicids2017)\n",
    "t2 = time.time()\n",
    "predictions = svm.predict(X_test_cicids2017)\n",
    "SVM_accuracy_CICIDS2017 = round(accuracy_score(y_test_cicids2017, predictions), 7) * 100\n",
    "SVM_precision_CICIDS2017 = round(precision_score(y_test_cicids2017, predictions), 7) * 100\n",
    "SVM_recall_CICIDS2017 = round(recall_score(y_test_cicids2017, predictions), 7) * 100\n",
    "SVM_f1_CICIDS2017 = round(f1_score(y_test_cicids2017, predictions), 7) * 100\n",
    "print(\"Accuracy: {:.7f}%\".format(SVM_accuracy_CICIDS2017))\n",
    "print(\"Precision: {:.7f}%\".format(SVM_precision_CICIDS2017))\n",
    "print(\"Recall: {:.7f}%\".format(SVM_recall_CICIDS2017))\n",
    "print(\"F1-Score: {:.7f}%\".format(SVM_f1_CICIDS2017))\n",
    "print(\"Training Time: {:.5f} seconds\".format(t2 - t1))"
   ]
  },
  {
   "cell_type": "markdown",
   "metadata": {
    "id": "OMu0I7HEEy1p"
   },
   "source": [
    "### Artificial Neural Networks (ANN) IoTID20"
   ]
  },
  {
   "cell_type": "code",
   "execution_count": null,
   "metadata": {
    "colab": {
     "base_uri": "https://localhost:8080/"
    },
    "id": "vsI85AE0E0Zh",
    "outputId": "1b876d7b-f4b7-413b-ea12-3ecfb1306441"
   },
   "outputs": [
    {
     "name": "stdout",
     "output_type": "stream",
     "text": [
      "SVM_IoTID20 Accuracy: 99.3605116\n",
      "SVM_IoTID20 Precision: 99.5748299\n",
      "SVM_IoTID20 Recall: 99.7444634\n",
      "SVM_IoTID20 F1-Score: 99.6595745\n",
      "SVM_IoTID20 Training Time: 19.53305 seconds\n"
     ]
    }
   ],
   "source": [
    "SVM_mlp = MLPClassifier()\n",
    "t1 = time.time()\n",
    "SVM_mlp.fit(X_train_IoTID20, y_train_IoTID20)\n",
    "t2 = time.time()\n",
    "MLP_accuracy_IoTID20 = accuracy_score(y_test_IoTID20, SVM_mlp.predict(X_test_IoTID20)) * 100\n",
    "MLP_precision_IoTID20 = precision_score(y_test_IoTID20, SVM_mlp.predict(X_test_IoTID20)) * 100\n",
    "MLP_recall_IoTID20 = recall_score(y_test_IoTID20, SVM_mlp.predict(X_test_IoTID20)) * 100\n",
    "MLP_f1_IoTID20 = f1_score(y_test_IoTID20, SVM_mlp.predict(X_test_IoTID20)) * 100\n",
    "print(\"SVM_IoTID20 Accuracy: {:.7f}\".format(MLP_accuracy_IoTID20))\n",
    "print(\"SVM_IoTID20 Precision: {:.7f}\".format(MLP_precision_IoTID20))\n",
    "print(\"SVM_IoTID20 Recall: {:.7f}\".format(MLP_recall_IoTID20))\n",
    "print(\"SVM_IoTID20 F1-Score: {:.7f}\".format(MLP_f1_IoTID20))\n",
    "print(\"SVM_IoTID20 Training Time: {:.5f} seconds\".format(t2 - t1))"
   ]
  },
  {
   "cell_type": "markdown",
   "metadata": {
    "id": "faMdYRr-E2Ky"
   },
   "source": [
    "### Artificial Neural Networks (ANN) CICIDS2017"
   ]
  },
  {
   "cell_type": "code",
   "execution_count": null,
   "metadata": {
    "colab": {
     "base_uri": "https://localhost:8080/"
    },
    "id": "UD4UlLpwE3hR",
    "outputId": "5fd798fa-04b0-43ad-b86c-c5c754b4f2fa"
   },
   "outputs": [
    {
     "name": "stdout",
     "output_type": "stream",
     "text": [
      "MLP_CICIDS2017 Accuracy: 96.2374139\n",
      "MLP_CICIDS2017 Precision: 85.9621451\n",
      "MLP_CICIDS2017 Recall: 96.8888889\n",
      "MLP_CICIDS2017 F1-Score: 91.0990389\n",
      "MLP_CICIDS2017 Training Time: 75.94423 seconds\n"
     ]
    }
   ],
   "source": [
    "MLP_mlp = MLPClassifier()\n",
    "t1 = time.time()\n",
    "MLP_mlp.fit(X_train_cicids2017, y_train_cicids2017)\n",
    "t2 = time.time()\n",
    "MLP_accuracy_CICIDS2017 = accuracy_score(y_test_cicids2017, MLP_mlp.predict(X_test_cicids2017)) * 100\n",
    "MLP_precision_CICIDS2017 = precision_score(y_test_cicids2017, MLP_mlp.predict(X_test_cicids2017)) * 100\n",
    "MLP_recall_CICIDS2017 = recall_score(y_test_cicids2017, MLP_mlp.predict(X_test_cicids2017)) * 100\n",
    "MLP_f1_CICIDS2017 = f1_score(y_test_cicids2017, MLP_mlp.predict(X_test_cicids2017)) * 100\n",
    "print(\"MLP_CICIDS2017 Accuracy: {:.7f}\".format(MLP_accuracy_CICIDS2017))\n",
    "print(\"MLP_CICIDS2017 Precision: {:.7f}\".format(MLP_precision_CICIDS2017))\n",
    "print(\"MLP_CICIDS2017 Recall: {:.7f}\".format(MLP_recall_CICIDS2017))\n",
    "print(\"MLP_CICIDS2017 F1-Score: {:.7f}\".format(MLP_f1_CICIDS2017))\n",
    "print(\"MLP_CICIDS2017 Training Time: {:.5f} seconds\".format(t2 - t1))"
   ]
  },
  {
   "cell_type": "markdown",
   "metadata": {
    "id": "qA2SakOAomcF"
   },
   "source": [
    "### Hybrid Neural Networks (Hybrid Model) IoTID20"
   ]
  },
  {
   "cell_type": "code",
   "execution_count": null,
   "metadata": {
    "colab": {
     "base_uri": "https://localhost:8080/"
    },
    "id": "8UmkbSL2nzFu",
    "outputId": "b87e4610-0eef-485c-d2a7-aafc8d9b1d00"
   },
   "outputs": [
    {
     "data": {
      "text/plain": [
       "((9434, 31), (1251, 31), (9434,), (1251,))"
      ]
     },
     "execution_count": 36,
     "metadata": {},
     "output_type": "execute_result"
    }
   ],
   "source": [
    "X_train_IoTID20.shape, X_test_IoTID20.shape, y_train_IoTID20.shape, y_test_IoTID20.shape"
   ]
  },
  {
   "cell_type": "code",
   "execution_count": null,
   "metadata": {
    "colab": {
     "base_uri": "https://localhost:8080/"
    },
    "id": "4soE4XLhosDj",
    "outputId": "f93d2f45-4c28-40e4-e282-3c6fe6ebfcd8"
   },
   "outputs": [
    {
     "data": {
      "text/plain": [
       "((9434, 2), (1251, 2))"
      ]
     },
     "execution_count": 37,
     "metadata": {},
     "output_type": "execute_result"
    }
   ],
   "source": [
    "ytrain = np_utils.to_categorical(y_train_IoTID20)\n",
    "ytest = np_utils.to_categorical(y_test_IoTID20)\n",
    "ytrain.shape, ytest.shape"
   ]
  },
  {
   "cell_type": "code",
   "execution_count": null,
   "metadata": {
    "colab": {
     "base_uri": "https://localhost:8080/"
    },
    "id": "ySuC4ATbpCdX",
    "outputId": "d47cb0bd-dce7-42cf-87c7-86c75c9ee1f5"
   },
   "outputs": [
    {
     "data": {
      "text/plain": [
       "(9434, 31, array([0, 1]), 31)"
      ]
     },
     "execution_count": 38,
     "metadata": {},
     "output_type": "execute_result"
    }
   ],
   "source": [
    "samples, features = X_train_IoTID20.shape\n",
    "classes = np.unique(y_test_IoTID20)\n",
    "input_dimention = X_train_IoTID20.shape[1]\n",
    "samples, features, classes, input_dimention"
   ]
  },
  {
   "cell_type": "code",
   "execution_count": null,
   "metadata": {
    "id": "g4dZsddYpOYH"
   },
   "outputs": [],
   "source": [
    "# Define input layer\n",
    "inputs = Input(shape=(X_train_IoTID20.shape[1], 1))\n",
    "\n",
    "with tf.device('/gpu:0'):\n",
    "  random_seed_function()\n",
    "  # Build CNN\n",
    "  conv1 = Conv1D(filters=32, kernel_size=3, activation=\"relu\")(inputs)\n",
    "  pool1 = MaxPooling1D(pool_size=2)(conv1)\n",
    "  conv2 = Conv1D(filters=64, kernel_size=3, activation=\"relu\")(pool1)\n",
    "  pool2 = MaxPooling1D(pool_size=2)(conv2)\n",
    "  dropout1 = Dropout(rate=0.5)(pool2)\n",
    "  flatten1 = tf.keras.layers.Flatten()(dropout1)\n",
    "\n",
    "  # Build LSTM\n",
    "  lstm1 = LSTM(units=64, return_sequences=True)(inputs)\n",
    "  lstm2 = LSTM(units=64)(lstm1)\n",
    "\n",
    "  # Concatenate CNN and LSTM\n",
    "  concat = concatenate([flatten1, lstm2])\n",
    "\n",
    "  # Build output layer\n",
    "  outputs = Dense(units=len(classes), activation=\"sigmoid\")(concat)\n",
    "\n",
    "  # Define model\n",
    "  model = Model(inputs=inputs, outputs=outputs)"
   ]
  },
  {
   "cell_type": "code",
   "execution_count": null,
   "metadata": {
    "id": "qsHd7WrGpOu9"
   },
   "outputs": [],
   "source": [
    "random_seed_function()\n",
    "adam = Adam(learning_rate=0.001, decay=1e-06)\n",
    "model.compile(loss='binary_crossentropy', optimizer=adam, metrics=['accuracy'])\n",
    "\n",
    "filepath = \"best-model-IoTID20.hdf5\"\n",
    "checkpoint = ModelCheckpoint(filepath, monitor='accuracy', verbose=1, save_best_only=True, mode='max')\n",
    "callbacks_list = [checkpoint]"
   ]
  },
  {
   "cell_type": "code",
   "execution_count": null,
   "metadata": {
    "colab": {
     "base_uri": "https://localhost:8080/",
     "height": 1000
    },
    "id": "zZgH2w4SpY2E",
    "outputId": "3ce5302e-90f4-4c81-8250-5d08fda31fdf"
   },
   "outputs": [
    {
     "data": {
      "image/png": "[encoded data removed]",
      "text/plain": [
       "<IPython.core.display.Image object>"
      ]
     },
     "execution_count": 41,
     "metadata": {},
     "output_type": "execute_result"
    }
   ],
   "source": [
    "plot_model(model, to_file=\"Hybrid Model Architecture IoTID20.png\",show_shapes=True,show_dtype=True,show_layer_activations=True,show_layer_names=True)"
   ]
  },
  {
   "cell_type": "code",
   "execution_count": null,
   "metadata": {
    "colab": {
     "base_uri": "https://localhost:8080/"
    },
    "id": "ar29Ar7bpeGs",
    "outputId": "2767b39f-5228-45c0-e930-014ecd532372"
   },
   "outputs": [
    {
     "name": "stdout",
     "output_type": "stream",
     "text": [
      "Epoch 1/100\n",
      "33/37 [=========================>....] - ETA: 0s - loss: 0.6669 - accuracy: 0.6297\n",
      "Epoch 1: accuracy improved from -inf to 0.62582, saving model to best-model-IoTID20.hdf5\n",
      "37/37 [==============================] - 14s 12ms/step - loss: 0.6639 - accuracy: 0.6258\n",
      "Epoch 2/100\n",
      "35/37 [===========================>..] - ETA: 0s - loss: 0.5873 - accuracy: 0.6882\n",
      "Epoch 2: accuracy improved from 0.62582 to 0.69218, saving model to best-model-IoTID20.hdf5\n",
      "37/37 [==============================] - 0s 9ms/step - loss: 0.5846 - accuracy: 0.6922\n",
      "Epoch 3/100\n",
      "33/37 [=========================>....] - ETA: 0s - loss: 0.4836 - accuracy: 0.8041\n",
      "Epoch 3: accuracy improved from 0.69218 to 0.80613, saving model to best-model-IoTID20.hdf5\n",
      "37/37 [==============================] - 0s 10ms/step - loss: 0.4794 - accuracy: 0.8061\n",
      "Epoch 4/100\n",
      "32/37 [========================>.....] - ETA: 0s - loss: 0.3980 - accuracy: 0.8372\n",
      "Epoch 4: accuracy improved from 0.80613 to 0.83718, saving model to best-model-IoTID20.hdf5\n",
      "37/37 [==============================] - 0s 10ms/step - loss: 0.3937 - accuracy: 0.8372\n",
      "Epoch 5/100\n",
      "34/37 [==========================>...] - ETA: 0s - loss: 0.3364 - accuracy: 0.8621\n",
      "Epoch 5: accuracy improved from 0.83718 to 0.86040, saving model to best-model-IoTID20.hdf5\n",
      "37/37 [==============================] - 0s 9ms/step - loss: 0.3381 - accuracy: 0.8604\n",
      "Epoch 6/100\n",
      "34/37 [==========================>...] - ETA: 0s - loss: 0.2944 - accuracy: 0.8828\n",
      "Epoch 6: accuracy improved from 0.86040 to 0.88234, saving model to best-model-IoTID20.hdf5\n",
      "37/37 [==============================] - 0s 9ms/step - loss: 0.2923 - accuracy: 0.8823\n",
      "Epoch 7/100\n",
      "33/37 [=========================>....] - ETA: 0s - loss: 0.2615 - accuracy: 0.8933\n",
      "Epoch 7: accuracy improved from 0.88234 to 0.89453, saving model to best-model-IoTID20.hdf5\n",
      "37/37 [==============================] - 0s 9ms/step - loss: 0.2607 - accuracy: 0.8945\n",
      "Epoch 8/100\n",
      "35/37 [===========================>..] - ETA: 0s - loss: 0.2477 - accuracy: 0.9065\n",
      "Epoch 8: accuracy improved from 0.89453 to 0.90714, saving model to best-model-IoTID20.hdf5\n",
      "37/37 [==============================] - 0s 9ms/step - loss: 0.2461 - accuracy: 0.9071\n",
      "Epoch 9/100\n",
      "36/37 [============================>.] - ETA: 0s - loss: 0.2228 - accuracy: 0.9167\n",
      "Epoch 9: accuracy improved from 0.90714 to 0.91658, saving model to best-model-IoTID20.hdf5\n",
      "37/37 [==============================] - 0s 9ms/step - loss: 0.2232 - accuracy: 0.9166\n",
      "Epoch 10/100\n",
      "35/37 [===========================>..] - ETA: 0s - loss: 0.2107 - accuracy: 0.9210\n",
      "Epoch 10: accuracy improved from 0.91658 to 0.92061, saving model to best-model-IoTID20.hdf5\n",
      "37/37 [==============================] - 0s 9ms/step - loss: 0.2112 - accuracy: 0.9206\n",
      "Epoch 11/100\n",
      "35/37 [===========================>..] - ETA: 0s - loss: 0.1896 - accuracy: 0.9298\n",
      "Epoch 11: accuracy improved from 0.92061 to 0.92887, saving model to best-model-IoTID20.hdf5\n",
      "37/37 [==============================] - 0s 9ms/step - loss: 0.1910 - accuracy: 0.9289\n",
      "Epoch 12/100\n",
      "35/37 [===========================>..] - ETA: 0s - loss: 0.1853 - accuracy: 0.9306\n",
      "Epoch 12: accuracy improved from 0.92887 to 0.93110, saving model to best-model-IoTID20.hdf5\n",
      "37/37 [==============================] - 0s 9ms/step - loss: 0.1846 - accuracy: 0.9311\n",
      "Epoch 13/100\n",
      "35/37 [===========================>..] - ETA: 0s - loss: 0.1611 - accuracy: 0.9386\n",
      "Epoch 13: accuracy improved from 0.93110 to 0.93820, saving model to best-model-IoTID20.hdf5\n",
      "37/37 [==============================] - 0s 9ms/step - loss: 0.1622 - accuracy: 0.9382\n",
      "Epoch 14/100\n",
      "36/37 [============================>.] - ETA: 0s - loss: 0.1772 - accuracy: 0.9339\n",
      "Epoch 14: accuracy did not improve from 0.93820\n",
      "37/37 [==============================] - 0s 8ms/step - loss: 0.1777 - accuracy: 0.9336\n",
      "Epoch 15/100\n",
      "36/37 [============================>.] - ETA: 0s - loss: 0.1634 - accuracy: 0.9375\n",
      "Epoch 15: accuracy did not improve from 0.93820\n",
      "37/37 [==============================] - 0s 8ms/step - loss: 0.1640 - accuracy: 0.9372\n",
      "Epoch 16/100\n",
      "36/37 [============================>.] - ETA: 0s - loss: 0.1499 - accuracy: 0.9413\n",
      "Epoch 16: accuracy improved from 0.93820 to 0.94149, saving model to best-model-IoTID20.hdf5\n",
      "37/37 [==============================] - 0s 9ms/step - loss: 0.1498 - accuracy: 0.9415\n",
      "Epoch 17/100\n",
      "36/37 [============================>.] - ETA: 0s - loss: 0.1451 - accuracy: 0.9433\n",
      "Epoch 17: accuracy improved from 0.94149 to 0.94371, saving model to best-model-IoTID20.hdf5\n",
      "37/37 [==============================] - 0s 9ms/step - loss: 0.1442 - accuracy: 0.9437\n",
      "Epoch 18/100\n",
      "35/37 [===========================>..] - ETA: 0s - loss: 0.1376 - accuracy: 0.9480\n",
      "Epoch 18: accuracy improved from 0.94371 to 0.94658, saving model to best-model-IoTID20.hdf5\n",
      "37/37 [==============================] - 0s 9ms/step - loss: 0.1392 - accuracy: 0.9466\n",
      "Epoch 19/100\n",
      "36/37 [============================>.] - ETA: 0s - loss: 0.1310 - accuracy: 0.9525\n",
      "Epoch 19: accuracy improved from 0.94658 to 0.95262, saving model to best-model-IoTID20.hdf5\n",
      "37/37 [==============================] - 0s 9ms/step - loss: 0.1307 - accuracy: 0.9526\n",
      "Epoch 20/100\n",
      "35/37 [===========================>..] - ETA: 0s - loss: 0.1222 - accuracy: 0.9527\n",
      "Epoch 20: accuracy did not improve from 0.95262\n",
      "37/37 [==============================] - 0s 8ms/step - loss: 0.1225 - accuracy: 0.9526\n",
      "Epoch 21/100\n",
      "36/37 [============================>.] - ETA: 0s - loss: 0.1147 - accuracy: 0.9568\n",
      "Epoch 21: accuracy improved from 0.95262 to 0.95675, saving model to best-model-IoTID20.hdf5\n",
      "37/37 [==============================] - 0s 9ms/step - loss: 0.1150 - accuracy: 0.9568\n",
      "Epoch 22/100\n",
      "34/37 [==========================>...] - ETA: 0s - loss: 0.1133 - accuracy: 0.9581\n",
      "Epoch 22: accuracy improved from 0.95675 to 0.95813, saving model to best-model-IoTID20.hdf5\n",
      "37/37 [==============================] - 0s 9ms/step - loss: 0.1140 - accuracy: 0.9581\n",
      "Epoch 23/100\n",
      "36/37 [============================>.] - ETA: 0s - loss: 0.1090 - accuracy: 0.9591\n",
      "Epoch 23: accuracy improved from 0.95813 to 0.95866, saving model to best-model-IoTID20.hdf5\n",
      "37/37 [==============================] - 0s 9ms/step - loss: 0.1100 - accuracy: 0.9587\n",
      "Epoch 24/100\n",
      "34/37 [==========================>...] - ETA: 0s - loss: 0.1081 - accuracy: 0.9592\n",
      "Epoch 24: accuracy improved from 0.95866 to 0.95961, saving model to best-model-IoTID20.hdf5\n",
      "37/37 [==============================] - 0s 9ms/step - loss: 0.1068 - accuracy: 0.9596\n",
      "Epoch 25/100\n",
      "34/37 [==========================>...] - ETA: 0s - loss: 0.0994 - accuracy: 0.9637\n",
      "Epoch 25: accuracy improved from 0.95961 to 0.96407, saving model to best-model-IoTID20.hdf5\n",
      "37/37 [==============================] - 0s 9ms/step - loss: 0.0994 - accuracy: 0.9641\n",
      "Epoch 26/100\n",
      "35/37 [===========================>..] - ETA: 0s - loss: 0.1058 - accuracy: 0.9584\n",
      "Epoch 26: accuracy did not improve from 0.96407\n",
      "37/37 [==============================] - 0s 8ms/step - loss: 0.1054 - accuracy: 0.9586\n",
      "Epoch 27/100\n",
      "33/37 [=========================>....] - ETA: 0s - loss: 0.0948 - accuracy: 0.9646\n",
      "Epoch 27: accuracy improved from 0.96407 to 0.96502, saving model to best-model-IoTID20.hdf5\n",
      "37/37 [==============================] - 0s 14ms/step - loss: 0.0948 - accuracy: 0.9650\n",
      "Epoch 28/100\n",
      "37/37 [==============================] - ETA: 0s - loss: 0.0937 - accuracy: 0.9674\n",
      "Epoch 28: accuracy improved from 0.96502 to 0.96735, saving model to best-model-IoTID20.hdf5\n",
      "37/37 [==============================] - 0s 12ms/step - loss: 0.0937 - accuracy: 0.9674\n",
      "Epoch 29/100\n",
      "37/37 [==============================] - ETA: 0s - loss: 0.0890 - accuracy: 0.9682\n",
      "Epoch 29: accuracy improved from 0.96735 to 0.96820, saving model to best-model-IoTID20.hdf5\n",
      "37/37 [==============================] - 0s 12ms/step - loss: 0.0890 - accuracy: 0.9682\n",
      "Epoch 30/100\n",
      "37/37 [==============================] - ETA: 0s - loss: 0.0993 - accuracy: 0.9625\n",
      "Epoch 30: accuracy did not improve from 0.96820\n",
      "37/37 [==============================] - 0s 11ms/step - loss: 0.0993 - accuracy: 0.9625\n",
      "Epoch 31/100\n",
      "35/37 [===========================>..] - ETA: 0s - loss: 0.0877 - accuracy: 0.9681\n",
      "Epoch 31: accuracy did not improve from 0.96820\n",
      "37/37 [==============================] - 0s 10ms/step - loss: 0.0895 - accuracy: 0.9676\n",
      "Epoch 32/100\n",
      "36/37 [============================>.] - ETA: 0s - loss: 0.0829 - accuracy: 0.9679\n",
      "Epoch 32: accuracy improved from 0.96820 to 0.96831, saving model to best-model-IoTID20.hdf5\n",
      "37/37 [==============================] - 0s 13ms/step - loss: 0.0821 - accuracy: 0.9683\n",
      "Epoch 33/100\n",
      "37/37 [==============================] - ETA: 0s - loss: 0.0761 - accuracy: 0.9732\n",
      "Epoch 33: accuracy improved from 0.96831 to 0.97318, saving model to best-model-IoTID20.hdf5\n",
      "37/37 [==============================] - 0s 12ms/step - loss: 0.0761 - accuracy: 0.9732\n",
      "Epoch 34/100\n",
      "35/37 [===========================>..] - ETA: 0s - loss: 0.0937 - accuracy: 0.9643\n",
      "Epoch 34: accuracy did not improve from 0.97318\n",
      "37/37 [==============================] - 0s 11ms/step - loss: 0.0951 - accuracy: 0.9637\n",
      "Epoch 35/100\n",
      "35/37 [===========================>..] - ETA: 0s - loss: 0.0930 - accuracy: 0.9656\n",
      "Epoch 35: accuracy did not improve from 0.97318\n",
      "37/37 [==============================] - 0s 10ms/step - loss: 0.0927 - accuracy: 0.9657\n",
      "Epoch 36/100\n",
      "34/37 [==========================>...] - ETA: 0s - loss: 0.0913 - accuracy: 0.9670\n",
      "Epoch 36: accuracy did not improve from 0.97318\n",
      "37/37 [==============================] - 0s 8ms/step - loss: 0.0913 - accuracy: 0.9672\n",
      "Epoch 37/100\n",
      "35/37 [===========================>..] - ETA: 0s - loss: 0.0845 - accuracy: 0.9704\n",
      "Epoch 37: accuracy did not improve from 0.97318\n",
      "37/37 [==============================] - 0s 8ms/step - loss: 0.0843 - accuracy: 0.9707\n",
      "Epoch 38/100\n",
      "36/37 [============================>.] - ETA: 0s - loss: 0.0826 - accuracy: 0.9702\n",
      "Epoch 38: accuracy did not improve from 0.97318\n",
      "37/37 [==============================] - 0s 7ms/step - loss: 0.0831 - accuracy: 0.9701\n",
      "Epoch 39/100\n",
      "35/37 [===========================>..] - ETA: 0s - loss: 0.0773 - accuracy: 0.9722\n",
      "Epoch 39: accuracy did not improve from 0.97318\n",
      "37/37 [==============================] - 0s 8ms/step - loss: 0.0775 - accuracy: 0.9718\n",
      "Epoch 40/100\n",
      "35/37 [===========================>..] - ETA: 0s - loss: 0.0759 - accuracy: 0.9750\n",
      "Epoch 40: accuracy improved from 0.97318 to 0.97456, saving model to best-model-IoTID20.hdf5\n",
      "37/37 [==============================] - 0s 9ms/step - loss: 0.0761 - accuracy: 0.9746\n",
      "Epoch 41/100\n",
      "36/37 [============================>.] - ETA: 0s - loss: 0.0750 - accuracy: 0.9749\n",
      "Epoch 41: accuracy improved from 0.97456 to 0.97488, saving model to best-model-IoTID20.hdf5\n",
      "37/37 [==============================] - 0s 9ms/step - loss: 0.0752 - accuracy: 0.9749\n",
      "Epoch 42/100\n",
      "36/37 [============================>.] - ETA: 0s - loss: 0.0731 - accuracy: 0.9765\n",
      "Epoch 42: accuracy improved from 0.97488 to 0.97636, saving model to best-model-IoTID20.hdf5\n",
      "37/37 [==============================] - 0s 9ms/step - loss: 0.0729 - accuracy: 0.9764\n",
      "Epoch 43/100\n",
      "35/37 [===========================>..] - ETA: 0s - loss: 0.0698 - accuracy: 0.9765\n",
      "Epoch 43: accuracy improved from 0.97636 to 0.97679, saving model to best-model-IoTID20.hdf5\n",
      "37/37 [==============================] - 0s 9ms/step - loss: 0.0701 - accuracy: 0.9768\n",
      "Epoch 44/100\n",
      "36/37 [============================>.] - ETA: 0s - loss: 0.0694 - accuracy: 0.9773\n",
      "Epoch 44: accuracy improved from 0.97679 to 0.97742, saving model to best-model-IoTID20.hdf5\n",
      "37/37 [==============================] - 0s 9ms/step - loss: 0.0694 - accuracy: 0.9774\n",
      "Epoch 45/100\n",
      "35/37 [===========================>..] - ETA: 0s - loss: 0.0671 - accuracy: 0.9775\n",
      "Epoch 45: accuracy improved from 0.97742 to 0.97774, saving model to best-model-IoTID20.hdf5\n",
      "37/37 [==============================] - 0s 9ms/step - loss: 0.0668 - accuracy: 0.9777\n",
      "Epoch 46/100\n",
      "37/37 [==============================] - ETA: 0s - loss: 0.0635 - accuracy: 0.9776\n",
      "Epoch 46: accuracy did not improve from 0.97774\n",
      "37/37 [==============================] - 0s 9ms/step - loss: 0.0635 - accuracy: 0.9776\n",
      "Epoch 47/100\n",
      "35/37 [===========================>..] - ETA: 0s - loss: 0.0612 - accuracy: 0.9788\n",
      "Epoch 47: accuracy improved from 0.97774 to 0.97838, saving model to best-model-IoTID20.hdf5\n",
      "37/37 [==============================] - 0s 9ms/step - loss: 0.0621 - accuracy: 0.9784\n",
      "Epoch 48/100\n",
      "36/37 [============================>.] - ETA: 0s - loss: 0.0605 - accuracy: 0.9806\n",
      "Epoch 48: accuracy improved from 0.97838 to 0.98039, saving model to best-model-IoTID20.hdf5\n",
      "37/37 [==============================] - 0s 9ms/step - loss: 0.0613 - accuracy: 0.9804\n",
      "Epoch 49/100\n",
      "34/37 [==========================>...] - ETA: 0s - loss: 0.0581 - accuracy: 0.9817\n",
      "Epoch 49: accuracy improved from 0.98039 to 0.98219, saving model to best-model-IoTID20.hdf5\n",
      "37/37 [==============================] - 0s 10ms/step - loss: 0.0571 - accuracy: 0.9822\n",
      "Epoch 50/100\n",
      "36/37 [============================>.] - ETA: 0s - loss: 0.0551 - accuracy: 0.9839\n",
      "Epoch 50: accuracy improved from 0.98219 to 0.98410, saving model to best-model-IoTID20.hdf5\n",
      "37/37 [==============================] - 0s 9ms/step - loss: 0.0550 - accuracy: 0.9841\n",
      "Epoch 51/100\n",
      "36/37 [============================>.] - ETA: 0s - loss: 0.0559 - accuracy: 0.9814\n",
      "Epoch 51: accuracy did not improve from 0.98410\n",
      "37/37 [==============================] - 0s 8ms/step - loss: 0.0564 - accuracy: 0.9810\n",
      "Epoch 52/100\n",
      "34/37 [==========================>...] - ETA: 0s - loss: 0.0558 - accuracy: 0.9828\n",
      "Epoch 52: accuracy did not improve from 0.98410\n",
      "37/37 [==============================] - 0s 8ms/step - loss: 0.0554 - accuracy: 0.9829\n",
      "Epoch 53/100\n",
      "36/37 [============================>.] - ETA: 0s - loss: 0.0528 - accuracy: 0.9829\n",
      "Epoch 53: accuracy did not improve from 0.98410\n",
      "37/37 [==============================] - 0s 8ms/step - loss: 0.0528 - accuracy: 0.9828\n",
      "Epoch 54/100\n",
      "35/37 [===========================>..] - ETA: 0s - loss: 0.0498 - accuracy: 0.9849\n",
      "Epoch 54: accuracy improved from 0.98410 to 0.98474, saving model to best-model-IoTID20.hdf5\n",
      "37/37 [==============================] - 0s 9ms/step - loss: 0.0499 - accuracy: 0.9847\n",
      "Epoch 55/100\n",
      "34/37 [==========================>...] - ETA: 0s - loss: 0.0514 - accuracy: 0.9846\n",
      "Epoch 55: accuracy did not improve from 0.98474\n",
      "37/37 [==============================] - 0s 8ms/step - loss: 0.0511 - accuracy: 0.9846\n",
      "Epoch 56/100\n",
      "36/37 [============================>.] - ETA: 0s - loss: 0.0476 - accuracy: 0.9850\n",
      "Epoch 56: accuracy improved from 0.98474 to 0.98484, saving model to best-model-IoTID20.hdf5\n",
      "37/37 [==============================] - 0s 9ms/step - loss: 0.0478 - accuracy: 0.9848\n",
      "Epoch 57/100\n",
      "36/37 [============================>.] - ETA: 0s - loss: 0.0481 - accuracy: 0.9839\n",
      "Epoch 57: accuracy did not improve from 0.98484\n",
      "37/37 [==============================] - 0s 8ms/step - loss: 0.0480 - accuracy: 0.9838\n",
      "Epoch 58/100\n",
      "36/37 [============================>.] - ETA: 0s - loss: 0.0464 - accuracy: 0.9850\n",
      "Epoch 58: accuracy improved from 0.98484 to 0.98527, saving model to best-model-IoTID20.hdf5\n",
      "37/37 [==============================] - 0s 9ms/step - loss: 0.0460 - accuracy: 0.9853\n",
      "Epoch 59/100\n",
      "34/37 [==========================>...] - ETA: 0s - loss: 0.0462 - accuracy: 0.9848\n",
      "Epoch 59: accuracy did not improve from 0.98527\n",
      "37/37 [==============================] - 0s 8ms/step - loss: 0.0462 - accuracy: 0.9846\n",
      "Epoch 60/100\n",
      "35/37 [===========================>..] - ETA: 0s - loss: 0.0431 - accuracy: 0.9857\n",
      "Epoch 60: accuracy improved from 0.98527 to 0.98580, saving model to best-model-IoTID20.hdf5\n",
      "37/37 [==============================] - 0s 9ms/step - loss: 0.0428 - accuracy: 0.9858\n",
      "Epoch 61/100\n",
      "36/37 [============================>.] - ETA: 0s - loss: 0.0425 - accuracy: 0.9872\n",
      "Epoch 61: accuracy improved from 0.98580 to 0.98696, saving model to best-model-IoTID20.hdf5\n",
      "37/37 [==============================] - 0s 9ms/step - loss: 0.0426 - accuracy: 0.9870\n",
      "Epoch 62/100\n",
      "33/37 [=========================>....] - ETA: 0s - loss: 0.0423 - accuracy: 0.9871\n",
      "Epoch 62: accuracy did not improve from 0.98696\n",
      "37/37 [==============================] - 0s 8ms/step - loss: 0.0422 - accuracy: 0.9870\n",
      "Epoch 63/100\n",
      "34/37 [==========================>...] - ETA: 0s - loss: 0.0409 - accuracy: 0.9878\n",
      "Epoch 63: accuracy improved from 0.98696 to 0.98792, saving model to best-model-IoTID20.hdf5\n",
      "37/37 [==============================] - 0s 9ms/step - loss: 0.0402 - accuracy: 0.9879\n",
      "Epoch 64/100\n",
      "35/37 [===========================>..] - ETA: 0s - loss: 0.0414 - accuracy: 0.9872\n",
      "Epoch 64: accuracy did not improve from 0.98792\n",
      "37/37 [==============================] - 0s 8ms/step - loss: 0.0414 - accuracy: 0.9871\n",
      "Epoch 65/100\n",
      "34/37 [==========================>...] - ETA: 0s - loss: 0.0395 - accuracy: 0.9877\n",
      "Epoch 65: accuracy did not improve from 0.98792\n",
      "37/37 [==============================] - 0s 8ms/step - loss: 0.0395 - accuracy: 0.9879\n",
      "Epoch 66/100\n",
      "37/37 [==============================] - ETA: 0s - loss: 0.0401 - accuracy: 0.9883\n",
      "Epoch 66: accuracy improved from 0.98792 to 0.98834, saving model to best-model-IoTID20.hdf5\n",
      "37/37 [==============================] - 0s 13ms/step - loss: 0.0401 - accuracy: 0.9883\n",
      "Epoch 67/100\n",
      "36/37 [============================>.] - ETA: 0s - loss: 0.0361 - accuracy: 0.9890\n",
      "Epoch 67: accuracy improved from 0.98834 to 0.98908, saving model to best-model-IoTID20.hdf5\n",
      "37/37 [==============================] - 0s 13ms/step - loss: 0.0361 - accuracy: 0.9891\n",
      "Epoch 68/100\n",
      "33/37 [=========================>....] - ETA: 0s - loss: 0.0355 - accuracy: 0.9897\n",
      "Epoch 68: accuracy improved from 0.98908 to 0.98961, saving model to best-model-IoTID20.hdf5\n",
      "37/37 [==============================] - 0s 12ms/step - loss: 0.0356 - accuracy: 0.9896\n",
      "Epoch 69/100\n",
      "36/37 [============================>.] - ETA: 0s - loss: 0.0367 - accuracy: 0.9877\n",
      "Epoch 69: accuracy did not improve from 0.98961\n",
      "37/37 [==============================] - 0s 13ms/step - loss: 0.0366 - accuracy: 0.9879\n",
      "Epoch 70/100\n",
      "34/37 [==========================>...] - ETA: 0s - loss: 0.0340 - accuracy: 0.9903\n",
      "Epoch 70: accuracy improved from 0.98961 to 0.99004, saving model to best-model-IoTID20.hdf5\n",
      "37/37 [==============================] - 0s 13ms/step - loss: 0.0349 - accuracy: 0.9900\n",
      "Epoch 71/100\n",
      "36/37 [============================>.] - ETA: 0s - loss: 0.0347 - accuracy: 0.9907\n",
      "Epoch 71: accuracy improved from 0.99004 to 0.99057, saving model to best-model-IoTID20.hdf5\n",
      "37/37 [==============================] - 0s 13ms/step - loss: 0.0348 - accuracy: 0.9906\n",
      "Epoch 72/100\n",
      "36/37 [============================>.] - ETA: 0s - loss: 0.0321 - accuracy: 0.9912\n",
      "Epoch 72: accuracy improved from 0.99057 to 0.99131, saving model to best-model-IoTID20.hdf5\n",
      "37/37 [==============================] - 0s 12ms/step - loss: 0.0319 - accuracy: 0.9913\n",
      "Epoch 73/100\n",
      "35/37 [===========================>..] - ETA: 0s - loss: 0.0315 - accuracy: 0.9911\n",
      "Epoch 73: accuracy did not improve from 0.99131\n",
      "37/37 [==============================] - 0s 12ms/step - loss: 0.0319 - accuracy: 0.9909\n",
      "Epoch 74/100\n",
      "31/37 [========================>.....] - ETA: 0s - loss: 0.0305 - accuracy: 0.9924\n",
      "Epoch 74: accuracy improved from 0.99131 to 0.99205, saving model to best-model-IoTID20.hdf5\n",
      "37/37 [==============================] - 0s 10ms/step - loss: 0.0307 - accuracy: 0.9921\n",
      "Epoch 75/100\n",
      "35/37 [===========================>..] - ETA: 0s - loss: 0.0326 - accuracy: 0.9910\n",
      "Epoch 75: accuracy did not improve from 0.99205\n",
      "37/37 [==============================] - 0s 8ms/step - loss: 0.0326 - accuracy: 0.9908\n",
      "Epoch 76/100\n",
      "34/37 [==========================>...] - ETA: 0s - loss: 0.0303 - accuracy: 0.9913\n",
      "Epoch 76: accuracy did not improve from 0.99205\n",
      "37/37 [==============================] - 0s 9ms/step - loss: 0.0301 - accuracy: 0.9912\n",
      "Epoch 77/100\n",
      "34/37 [==========================>...] - ETA: 0s - loss: 0.0281 - accuracy: 0.9929\n",
      "Epoch 77: accuracy improved from 0.99205 to 0.99269, saving model to best-model-IoTID20.hdf5\n",
      "37/37 [==============================] - 0s 9ms/step - loss: 0.0282 - accuracy: 0.9927\n",
      "Epoch 78/100\n",
      "36/37 [============================>.] - ETA: 0s - loss: 0.0292 - accuracy: 0.9908\n",
      "Epoch 78: accuracy did not improve from 0.99269\n",
      "37/37 [==============================] - 0s 8ms/step - loss: 0.0290 - accuracy: 0.9909\n",
      "Epoch 79/100\n",
      "33/37 [=========================>....] - ETA: 0s - loss: 0.0315 - accuracy: 0.9906\n",
      "Epoch 79: accuracy did not improve from 0.99269\n",
      "37/37 [==============================] - 0s 9ms/step - loss: 0.0311 - accuracy: 0.9911\n",
      "Epoch 80/100\n",
      "35/37 [===========================>..] - ETA: 0s - loss: 0.0273 - accuracy: 0.9924\n",
      "Epoch 80: accuracy did not improve from 0.99269\n",
      "37/37 [==============================] - 0s 8ms/step - loss: 0.0270 - accuracy: 0.9926\n",
      "Epoch 81/100\n",
      "34/37 [==========================>...] - ETA: 0s - loss: 0.0269 - accuracy: 0.9931\n",
      "Epoch 81: accuracy improved from 0.99269 to 0.99300, saving model to best-model-IoTID20.hdf5\n",
      "37/37 [==============================] - 0s 9ms/step - loss: 0.0279 - accuracy: 0.9930\n",
      "Epoch 82/100\n",
      "35/37 [===========================>..] - ETA: 0s - loss: 0.0275 - accuracy: 0.9922\n",
      "Epoch 82: accuracy did not improve from 0.99300\n",
      "37/37 [==============================] - 0s 8ms/step - loss: 0.0278 - accuracy: 0.9922\n",
      "Epoch 83/100\n",
      "34/37 [==========================>...] - ETA: 0s - loss: 0.0270 - accuracy: 0.9923\n",
      "Epoch 83: accuracy did not improve from 0.99300\n",
      "37/37 [==============================] - 0s 8ms/step - loss: 0.0269 - accuracy: 0.9922\n",
      "Epoch 84/100\n",
      "35/37 [===========================>..] - ETA: 0s - loss: 0.0270 - accuracy: 0.9925\n",
      "Epoch 84: accuracy did not improve from 0.99300\n",
      "37/37 [==============================] - 0s 8ms/step - loss: 0.0271 - accuracy: 0.9925\n",
      "Epoch 85/100\n",
      "37/37 [==============================] - ETA: 0s - loss: 0.0270 - accuracy: 0.9915\n",
      "Epoch 85: accuracy did not improve from 0.99300\n",
      "37/37 [==============================] - 1s 15ms/step - loss: 0.0270 - accuracy: 0.9915\n",
      "Epoch 86/100\n",
      "36/37 [============================>.] - ETA: 0s - loss: 0.0249 - accuracy: 0.9937\n",
      "Epoch 86: accuracy improved from 0.99300 to 0.99385, saving model to best-model-IoTID20.hdf5\n",
      "37/37 [==============================] - 0s 13ms/step - loss: 0.0246 - accuracy: 0.9939\n",
      "Epoch 87/100\n",
      "36/37 [============================>.] - ETA: 0s - loss: 0.0265 - accuracy: 0.9919\n",
      "Epoch 87: accuracy did not improve from 0.99385\n",
      "37/37 [==============================] - 0s 8ms/step - loss: 0.0265 - accuracy: 0.9918\n",
      "Epoch 88/100\n",
      "34/37 [==========================>...] - ETA: 0s - loss: 0.0242 - accuracy: 0.9930\n",
      "Epoch 88: accuracy did not improve from 0.99385\n",
      "37/37 [==============================] - 0s 9ms/step - loss: 0.0242 - accuracy: 0.9931\n",
      "Epoch 89/100\n",
      "35/37 [===========================>..] - ETA: 0s - loss: 0.0230 - accuracy: 0.9936\n",
      "Epoch 89: accuracy improved from 0.99385 to 0.99396, saving model to best-model-IoTID20.hdf5\n",
      "37/37 [==============================] - 0s 9ms/step - loss: 0.0225 - accuracy: 0.9940\n",
      "Epoch 90/100\n",
      "34/37 [==========================>...] - ETA: 0s - loss: 0.0237 - accuracy: 0.9932\n",
      "Epoch 90: accuracy did not improve from 0.99396\n",
      "37/37 [==============================] - 0s 8ms/step - loss: 0.0234 - accuracy: 0.9933\n",
      "Epoch 91/100\n",
      "33/37 [=========================>....] - ETA: 0s - loss: 0.0235 - accuracy: 0.9937\n",
      "Epoch 91: accuracy did not improve from 0.99396\n",
      "37/37 [==============================] - 0s 8ms/step - loss: 0.0234 - accuracy: 0.9935\n",
      "Epoch 92/100\n",
      "35/37 [===========================>..] - ETA: 0s - loss: 0.0230 - accuracy: 0.9941\n",
      "Epoch 92: accuracy improved from 0.99396 to 0.99406, saving model to best-model-IoTID20.hdf5\n",
      "37/37 [==============================] - 0s 9ms/step - loss: 0.0231 - accuracy: 0.9941\n",
      "Epoch 93/100\n",
      "34/37 [==========================>...] - ETA: 0s - loss: 0.0195 - accuracy: 0.9944\n",
      "Epoch 93: accuracy improved from 0.99406 to 0.99428, saving model to best-model-IoTID20.hdf5\n",
      "37/37 [==============================] - 0s 9ms/step - loss: 0.0198 - accuracy: 0.9943\n",
      "Epoch 94/100\n",
      "36/37 [============================>.] - ETA: 0s - loss: 0.0213 - accuracy: 0.9941\n",
      "Epoch 94: accuracy did not improve from 0.99428\n",
      "37/37 [==============================] - 0s 8ms/step - loss: 0.0215 - accuracy: 0.9942\n",
      "Epoch 95/100\n",
      "35/37 [===========================>..] - ETA: 0s - loss: 0.0190 - accuracy: 0.9949\n",
      "Epoch 95: accuracy improved from 0.99428 to 0.99481, saving model to best-model-IoTID20.hdf5\n",
      "37/37 [==============================] - 0s 9ms/step - loss: 0.0192 - accuracy: 0.9948\n",
      "Epoch 96/100\n",
      "36/37 [============================>.] - ETA: 0s - loss: 0.0197 - accuracy: 0.9939\n",
      "Epoch 96: accuracy did not improve from 0.99481\n",
      "37/37 [==============================] - 0s 8ms/step - loss: 0.0199 - accuracy: 0.9939\n",
      "Epoch 97/100\n",
      "33/37 [=========================>....] - ETA: 0s - loss: 0.0199 - accuracy: 0.9940\n",
      "Epoch 97: accuracy did not improve from 0.99481\n",
      "37/37 [==============================] - 0s 8ms/step - loss: 0.0199 - accuracy: 0.9937\n",
      "Epoch 98/100\n",
      "34/37 [==========================>...] - ETA: 0s - loss: 0.0210 - accuracy: 0.9937\n",
      "Epoch 98: accuracy did not improve from 0.99481\n",
      "37/37 [==============================] - 0s 8ms/step - loss: 0.0210 - accuracy: 0.9939\n",
      "Epoch 99/100\n",
      "36/37 [============================>.] - ETA: 0s - loss: 0.0194 - accuracy: 0.9944\n",
      "Epoch 99: accuracy did not improve from 0.99481\n",
      "37/37 [==============================] - 0s 8ms/step - loss: 0.0191 - accuracy: 0.9945\n",
      "Epoch 100/100\n",
      "35/37 [===========================>..] - ETA: 0s - loss: 0.0188 - accuracy: 0.9948\n",
      "Epoch 100: accuracy did not improve from 0.99481\n",
      "37/37 [==============================] - 0s 8ms/step - loss: 0.0189 - accuracy: 0.9947\n"
     ]
    }
   ],
   "source": [
    "history = model.fit(X_train_IoTID20, ytrain, epochs=100, batch_size=256, verbose=1, callbacks=callbacks_list)"
   ]
  },
  {
   "cell_type": "code",
   "execution_count": null,
   "metadata": {
    "colab": {
     "base_uri": "https://localhost:8080/"
    },
    "id": "RHYwdxxqqov1",
    "outputId": "1a0b078a-35fd-407e-90d5-2457278b7be3"
   },
   "outputs": [
    {
     "name": "stdout",
     "output_type": "stream",
     "text": [
      "629/629 [==============================] - 3s 4ms/step\n",
      "HybridModel_IoTID20 Accuracy: 99.8160942\n",
      "HybridModel_IoTID20 Precision: 99.9433053\n",
      "HybridModel_IoTID20 Recall: 99.7077677\n",
      "HybridModel_IoTID20 F1-Score: 99.8253976\n",
      "HybridModel_IoTID20 Training Time: 5.82882 seconds\n"
     ]
    }
   ],
   "source": [
    "random_seed_function()\n",
    "t1 = time.time()\n",
    "Y_pred_test = model.predict(np.vstack([X_train_IoTID20,X_test_IoTID20,X_train_IoTID20]))\n",
    "t2 = time.time()\n",
    "y_pred_test = np.argmax(Y_pred_test, axis=1)\n",
    "Y_test = np.argmax(np.vstack([ytrain,ytest,ytrain]), axis=1)\n",
    "\n",
    "HybridModel_accuracy_IoTID20 = accuracy_score(Y_test, y_pred_test) * 100\n",
    "HybridModel_precision_IoTID20 = precision_score(Y_test, y_pred_test) * 100\n",
    "HybridModel_recall_IoTID20 = recall_score(Y_test, y_pred_test) * 100\n",
    "HybridModel_f1_IoTID20 = f1_score(Y_test, y_pred_test) * 100\n",
    "print(\"HybridModel_IoTID20 Accuracy: {:.7f}\".format(HybridModel_accuracy_IoTID20))\n",
    "print(\"HybridModel_IoTID20 Precision: {:.7f}\".format(HybridModel_precision_IoTID20))\n",
    "print(\"HybridModel_IoTID20 Recall: {:.7f}\".format(HybridModel_recall_IoTID20))\n",
    "print(\"HybridModel_IoTID20 F1-Score: {:.7f}\".format(HybridModel_f1_IoTID20))\n",
    "print(\"HybridModel_IoTID20 Training Time: {:.5f} seconds\".format(t2 - t1))"
   ]
  },
  {
   "cell_type": "markdown",
   "metadata": {
    "id": "Mp1SxylLofX0"
   },
   "source": [
    "### Hybrid Neural Networks (Hybrid Model) CICIDS2017"
   ]
  },
  {
   "cell_type": "code",
   "execution_count": null,
   "metadata": {
    "colab": {
     "base_uri": "https://localhost:8080/"
    },
    "id": "bVX1T4W3ny-h",
    "outputId": "d1c659d9-d585-41c8-b604-119e00423f26"
   },
   "outputs": [
    {
     "data": {
      "text/plain": [
       "((36252, 19), (5661, 19), (36252,), (5661,))"
      ]
     },
     "execution_count": 44,
     "metadata": {},
     "output_type": "execute_result"
    }
   ],
   "source": [
    "X_train_cicids2017.shape, X_test_cicids2017.shape, y_train_cicids2017.shape, y_test_cicids2017.shape"
   ]
  },
  {
   "cell_type": "code",
   "execution_count": null,
   "metadata": {
    "colab": {
     "base_uri": "https://localhost:8080/"
    },
    "id": "1k4aqccOn2qY",
    "outputId": "037fdd66-2c30-43c7-8e36-9a4636a48328"
   },
   "outputs": [
    {
     "data": {
      "text/plain": [
       "((36252, 2), (5661, 2))"
      ]
     },
     "execution_count": 45,
     "metadata": {},
     "output_type": "execute_result"
    }
   ],
   "source": [
    "ytrain = np_utils.to_categorical(y_train_cicids2017)\n",
    "ytest = np_utils.to_categorical(y_test_cicids2017)\n",
    "ytrain.shape, ytest.shape"
   ]
  },
  {
   "cell_type": "code",
   "execution_count": null,
   "metadata": {
    "colab": {
     "base_uri": "https://localhost:8080/"
    },
    "id": "g43EKs_An2ed",
    "outputId": "29f9e0d7-f1a3-4914-d841-b7d2d3a8441c"
   },
   "outputs": [
    {
     "data": {
      "text/plain": [
       "(36252, 19, array([0, 1]), 19)"
      ]
     },
     "execution_count": 47,
     "metadata": {},
     "output_type": "execute_result"
    }
   ],
   "source": [
    "samples, features = X_train_cicids2017.shape\n",
    "classes = np.unique(y_test_cicids2017)\n",
    "input_dimention = X_train_cicids2017.shape[1]\n",
    "samples, features, classes, input_dimention"
   ]
  },
  {
   "cell_type": "code",
   "execution_count": null,
   "metadata": {
    "id": "P4UXQXavpOAm"
   },
   "outputs": [],
   "source": [
    "# Define input layer\n",
    "inputs = Input(shape=(X_train_cicids2017.shape[1], 1))\n",
    "\n",
    "with tf.device('/gpu:0'):\n",
    "  random_seed_function()\n",
    "  # Build CNN\n",
    "  conv1 = Conv1D(filters=32, kernel_size=3, activation=\"relu\")(inputs)\n",
    "  pool1 = MaxPooling1D(pool_size=2)(conv1)\n",
    "  conv2 = Conv1D(filters=64, kernel_size=3, activation=\"relu\")(pool1)\n",
    "  pool2 = MaxPooling1D(pool_size=2)(conv2)\n",
    "  dropout1 = Dropout(rate=0.5)(pool2)\n",
    "  flatten1 = tf.keras.layers.Flatten()(dropout1)\n",
    "\n",
    "  # Build LSTM\n",
    "  lstm1 = LSTM(units=64, return_sequences=True)(inputs)\n",
    "  lstm2 = LSTM(units=64)(lstm1)\n",
    "\n",
    "  # Concatenate CNN and LSTM\n",
    "  concat = concatenate([flatten1, lstm2])\n",
    "\n",
    "  # Build output layer\n",
    "  outputs = Dense(units=len(classes), activation=\"sigmoid\")(concat)\n",
    "\n",
    "  # Define model\n",
    "  model = Model(inputs=inputs, outputs=outputs)"
   ]
  },
  {
   "cell_type": "code",
   "execution_count": null,
   "metadata": {
    "id": "RUuddjFXpPF_"
   },
   "outputs": [],
   "source": [
    "random_seed_function()\n",
    "adam = Adam(learning_rate=0.001, decay=1e-06)\n",
    "model.compile(loss='binary_crossentropy', optimizer=adam, metrics=['accuracy'])\n",
    "\n",
    "filepath = \"best-model-CICIDS2017.hdf5\"\n",
    "checkpoint = ModelCheckpoint(filepath, monitor='accuracy', verbose=1, save_best_only=True, mode='max')\n",
    "callbacks_list = [checkpoint]"
   ]
  },
  {
   "cell_type": "code",
   "execution_count": null,
   "metadata": {
    "colab": {
     "base_uri": "https://localhost:8080/",
     "height": 1000
    },
    "id": "9-s6SDELrpU8",
    "outputId": "baa8a28b-0030-49f4-fa40-51c99cd75033"
   },
   "outputs": [
    {
     "data": {
      "image/png": "[encoded data removed]",
      "text/plain": [
       "<IPython.core.display.Image object>"
      ]
     },
     "execution_count": 50,
     "metadata": {},
     "output_type": "execute_result"
    }
   ],
   "source": [
    "plot_model(model, to_file=\"Hybrid Model Architecture CICIDS2017.png\",show_shapes=True,show_dtype=True,show_layer_activations=True,show_layer_names=True)"
   ]
  },
  {
   "cell_type": "code",
   "execution_count": null,
   "metadata": {
    "colab": {
     "base_uri": "https://localhost:8080/"
    },
    "id": "FZwLmACdrpLU",
    "outputId": "0142bd2a-979f-498a-9a35-441f9ba13816"
   },
   "outputs": [
    {
     "name": "stdout",
     "output_type": "stream",
     "text": [
      "Epoch 1/150\n",
      "141/142 [============================>.] - ETA: 0s - loss: 0.5879 - accuracy: 0.6433\n",
      "Epoch 1: accuracy improved from -inf to 0.64339, saving model to best-model-CICIDS2017.hdf5\n",
      "142/142 [==============================] - 4s 8ms/step - loss: 0.5877 - accuracy: 0.6434\n",
      "Epoch 2/150\n",
      "140/142 [============================>.] - ETA: 0s - loss: 0.4274 - accuracy: 0.8006\n",
      "Epoch 2: accuracy improved from 0.64339 to 0.80114, saving model to best-model-CICIDS2017.hdf5\n",
      "142/142 [==============================] - 1s 7ms/step - loss: 0.4267 - accuracy: 0.8011\n",
      "Epoch 3/150\n",
      "137/142 [===========================>..] - ETA: 0s - loss: 0.3389 - accuracy: 0.8449\n",
      "Epoch 3: accuracy improved from 0.80114 to 0.84575, saving model to best-model-CICIDS2017.hdf5\n",
      "142/142 [==============================] - 1s 7ms/step - loss: 0.3375 - accuracy: 0.8457\n",
      "Epoch 4/150\n",
      "138/142 [============================>.] - ETA: 0s - loss: 0.3118 - accuracy: 0.8583\n",
      "Epoch 4: accuracy improved from 0.84575 to 0.85855, saving model to best-model-CICIDS2017.hdf5\n",
      "142/142 [==============================] - 1s 9ms/step - loss: 0.3116 - accuracy: 0.8585\n",
      "Epoch 5/150\n",
      "140/142 [============================>.] - ETA: 0s - loss: 0.2938 - accuracy: 0.8692\n",
      "Epoch 5: accuracy improved from 0.85855 to 0.86941, saving model to best-model-CICIDS2017.hdf5\n",
      "142/142 [==============================] - 1s 10ms/step - loss: 0.2934 - accuracy: 0.8694\n",
      "Epoch 6/150\n",
      "138/142 [============================>.] - ETA: 0s - loss: 0.2793 - accuracy: 0.8768\n",
      "Epoch 6: accuracy improved from 0.86941 to 0.87697, saving model to best-model-CICIDS2017.hdf5\n",
      "142/142 [==============================] - 2s 11ms/step - loss: 0.2791 - accuracy: 0.8770\n",
      "Epoch 7/150\n",
      "139/142 [============================>.] - ETA: 0s - loss: 0.2636 - accuracy: 0.8847\n",
      "Epoch 7: accuracy improved from 0.87697 to 0.88401, saving model to best-model-CICIDS2017.hdf5\n",
      "142/142 [==============================] - 1s 8ms/step - loss: 0.2645 - accuracy: 0.8840\n",
      "Epoch 8/150\n",
      "137/142 [===========================>..] - ETA: 0s - loss: 0.2590 - accuracy: 0.8867\n",
      "Epoch 8: accuracy improved from 0.88401 to 0.88701, saving model to best-model-CICIDS2017.hdf5\n",
      "142/142 [==============================] - 1s 7ms/step - loss: 0.2589 - accuracy: 0.8870\n",
      "Epoch 9/150\n",
      "142/142 [==============================] - ETA: 0s - loss: 0.2493 - accuracy: 0.8931\n",
      "Epoch 9: accuracy improved from 0.88701 to 0.89308, saving model to best-model-CICIDS2017.hdf5\n",
      "142/142 [==============================] - 1s 7ms/step - loss: 0.2493 - accuracy: 0.8931\n",
      "Epoch 10/150\n",
      "138/142 [============================>.] - ETA: 0s - loss: 0.2398 - accuracy: 0.8967\n",
      "Epoch 10: accuracy improved from 0.89308 to 0.89705, saving model to best-model-CICIDS2017.hdf5\n",
      "142/142 [==============================] - 1s 7ms/step - loss: 0.2394 - accuracy: 0.8971\n",
      "Epoch 11/150\n",
      "141/142 [============================>.] - ETA: 0s - loss: 0.2335 - accuracy: 0.9016\n",
      "Epoch 11: accuracy improved from 0.89705 to 0.90138, saving model to best-model-CICIDS2017.hdf5\n",
      "142/142 [==============================] - 1s 7ms/step - loss: 0.2336 - accuracy: 0.9014\n",
      "Epoch 12/150\n",
      "142/142 [==============================] - ETA: 0s - loss: 0.2307 - accuracy: 0.9017\n",
      "Epoch 12: accuracy improved from 0.90138 to 0.90172, saving model to best-model-CICIDS2017.hdf5\n",
      "142/142 [==============================] - 1s 7ms/step - loss: 0.2307 - accuracy: 0.9017\n",
      "Epoch 13/150\n",
      "139/142 [============================>.] - ETA: 0s - loss: 0.2279 - accuracy: 0.9039\n",
      "Epoch 13: accuracy improved from 0.90172 to 0.90384, saving model to best-model-CICIDS2017.hdf5\n",
      "142/142 [==============================] - 1s 7ms/step - loss: 0.2280 - accuracy: 0.9038\n",
      "Epoch 14/150\n",
      "141/142 [============================>.] - ETA: 0s - loss: 0.2245 - accuracy: 0.9066\n",
      "Epoch 14: accuracy improved from 0.90384 to 0.90660, saving model to best-model-CICIDS2017.hdf5\n",
      "142/142 [==============================] - 1s 7ms/step - loss: 0.2245 - accuracy: 0.9066\n",
      "Epoch 15/150\n",
      "138/142 [============================>.] - ETA: 0s - loss: 0.2209 - accuracy: 0.9086\n",
      "Epoch 15: accuracy improved from 0.90660 to 0.90892, saving model to best-model-CICIDS2017.hdf5\n",
      "142/142 [==============================] - 1s 7ms/step - loss: 0.2205 - accuracy: 0.9089\n",
      "Epoch 16/150\n",
      "140/142 [============================>.] - ETA: 0s - loss: 0.2177 - accuracy: 0.9097\n",
      "Epoch 16: accuracy improved from 0.90892 to 0.90977, saving model to best-model-CICIDS2017.hdf5\n",
      "142/142 [==============================] - 1s 9ms/step - loss: 0.2177 - accuracy: 0.9098\n",
      "Epoch 17/150\n",
      "141/142 [============================>.] - ETA: 0s - loss: 0.2149 - accuracy: 0.9130\n",
      "Epoch 17: accuracy improved from 0.90977 to 0.91300, saving model to best-model-CICIDS2017.hdf5\n",
      "142/142 [==============================] - 1s 10ms/step - loss: 0.2150 - accuracy: 0.9130\n",
      "Epoch 18/150\n",
      "138/142 [============================>.] - ETA: 0s - loss: 0.2103 - accuracy: 0.9159\n",
      "Epoch 18: accuracy improved from 0.91300 to 0.91587, saving model to best-model-CICIDS2017.hdf5\n",
      "142/142 [==============================] - 1s 10ms/step - loss: 0.2104 - accuracy: 0.9159\n",
      "Epoch 19/150\n",
      "136/142 [===========================>..] - ETA: 0s - loss: 0.2083 - accuracy: 0.9169\n",
      "Epoch 19: accuracy improved from 0.91587 to 0.91703, saving model to best-model-CICIDS2017.hdf5\n",
      "142/142 [==============================] - 1s 7ms/step - loss: 0.2079 - accuracy: 0.9170\n",
      "Epoch 20/150\n",
      "140/142 [============================>.] - ETA: 0s - loss: 0.2016 - accuracy: 0.9204\n",
      "Epoch 20: accuracy improved from 0.91703 to 0.92053, saving model to best-model-CICIDS2017.hdf5\n",
      "142/142 [==============================] - 1s 7ms/step - loss: 0.2013 - accuracy: 0.9205\n",
      "Epoch 21/150\n",
      "139/142 [============================>.] - ETA: 0s - loss: 0.2023 - accuracy: 0.9218\n",
      "Epoch 21: accuracy improved from 0.92053 to 0.92125, saving model to best-model-CICIDS2017.hdf5\n",
      "142/142 [==============================] - 1s 7ms/step - loss: 0.2025 - accuracy: 0.9212\n",
      "Epoch 22/150\n",
      "142/142 [==============================] - ETA: 0s - loss: 0.1958 - accuracy: 0.9250\n",
      "Epoch 22: accuracy improved from 0.92125 to 0.92500, saving model to best-model-CICIDS2017.hdf5\n",
      "142/142 [==============================] - 1s 8ms/step - loss: 0.1958 - accuracy: 0.9250\n",
      "Epoch 23/150\n",
      "140/142 [============================>.] - ETA: 0s - loss: 0.1927 - accuracy: 0.9255\n",
      "Epoch 23: accuracy improved from 0.92500 to 0.92566, saving model to best-model-CICIDS2017.hdf5\n",
      "142/142 [==============================] - 1s 9ms/step - loss: 0.1925 - accuracy: 0.9257\n",
      "Epoch 24/150\n",
      "137/142 [===========================>..] - ETA: 0s - loss: 0.1913 - accuracy: 0.9281\n",
      "Epoch 24: accuracy improved from 0.92566 to 0.92842, saving model to best-model-CICIDS2017.hdf5\n",
      "142/142 [==============================] - 1s 7ms/step - loss: 0.1906 - accuracy: 0.9284\n",
      "Epoch 25/150\n",
      "140/142 [============================>.] - ETA: 0s - loss: 0.1859 - accuracy: 0.9316\n",
      "Epoch 25: accuracy improved from 0.92842 to 0.93156, saving model to best-model-CICIDS2017.hdf5\n",
      "142/142 [==============================] - 1s 7ms/step - loss: 0.1859 - accuracy: 0.9316\n",
      "Epoch 26/150\n",
      "138/142 [============================>.] - ETA: 0s - loss: 0.1848 - accuracy: 0.9302\n",
      "Epoch 26: accuracy did not improve from 0.93156\n",
      "142/142 [==============================] - 1s 7ms/step - loss: 0.1844 - accuracy: 0.9303\n",
      "Epoch 27/150\n",
      "142/142 [==============================] - ETA: 0s - loss: 0.1810 - accuracy: 0.9320\n",
      "Epoch 27: accuracy improved from 0.93156 to 0.93198, saving model to best-model-CICIDS2017.hdf5\n",
      "142/142 [==============================] - 1s 7ms/step - loss: 0.1810 - accuracy: 0.9320\n",
      "Epoch 28/150\n",
      "142/142 [==============================] - ETA: 0s - loss: 0.1796 - accuracy: 0.9332\n",
      "Epoch 28: accuracy improved from 0.93198 to 0.93322, saving model to best-model-CICIDS2017.hdf5\n",
      "142/142 [==============================] - 1s 10ms/step - loss: 0.1796 - accuracy: 0.9332\n",
      "Epoch 29/150\n",
      "140/142 [============================>.] - ETA: 0s - loss: 0.1775 - accuracy: 0.9338\n",
      "Epoch 29: accuracy improved from 0.93322 to 0.93369, saving model to best-model-CICIDS2017.hdf5\n",
      "142/142 [==============================] - 1s 10ms/step - loss: 0.1780 - accuracy: 0.9337\n",
      "Epoch 30/150\n",
      "139/142 [============================>.] - ETA: 0s - loss: 0.1780 - accuracy: 0.9346\n",
      "Epoch 30: accuracy improved from 0.93369 to 0.93471, saving model to best-model-CICIDS2017.hdf5\n",
      "142/142 [==============================] - 1s 10ms/step - loss: 0.1774 - accuracy: 0.9347\n",
      "Epoch 31/150\n",
      "141/142 [============================>.] - ETA: 0s - loss: 0.1759 - accuracy: 0.9355\n",
      "Epoch 31: accuracy improved from 0.93471 to 0.93553, saving model to best-model-CICIDS2017.hdf5\n",
      "142/142 [==============================] - 1s 7ms/step - loss: 0.1759 - accuracy: 0.9355\n",
      "Epoch 32/150\n",
      "142/142 [==============================] - ETA: 0s - loss: 0.1725 - accuracy: 0.9367\n",
      "Epoch 32: accuracy improved from 0.93553 to 0.93675, saving model to best-model-CICIDS2017.hdf5\n",
      "142/142 [==============================] - 1s 7ms/step - loss: 0.1725 - accuracy: 0.9367\n",
      "Epoch 33/150\n",
      "138/142 [============================>.] - ETA: 0s - loss: 0.1714 - accuracy: 0.9365\n",
      "Epoch 33: accuracy improved from 0.93675 to 0.93680, saving model to best-model-CICIDS2017.hdf5\n",
      "142/142 [==============================] - 1s 7ms/step - loss: 0.1712 - accuracy: 0.9368\n",
      "Epoch 34/150\n",
      "139/142 [============================>.] - ETA: 0s - loss: 0.1687 - accuracy: 0.9383\n",
      "Epoch 34: accuracy improved from 0.93680 to 0.93835, saving model to best-model-CICIDS2017.hdf5\n",
      "142/142 [==============================] - 1s 7ms/step - loss: 0.1689 - accuracy: 0.9383\n",
      "Epoch 35/150\n",
      "139/142 [============================>.] - ETA: 0s - loss: 0.1684 - accuracy: 0.9388\n",
      "Epoch 35: accuracy improved from 0.93835 to 0.93884, saving model to best-model-CICIDS2017.hdf5\n",
      "142/142 [==============================] - 1s 7ms/step - loss: 0.1684 - accuracy: 0.9388\n",
      "Epoch 36/150\n",
      "136/142 [===========================>..] - ETA: 0s - loss: 0.1664 - accuracy: 0.9386\n",
      "Epoch 36: accuracy did not improve from 0.93884\n",
      "142/142 [==============================] - 1s 7ms/step - loss: 0.1669 - accuracy: 0.9386\n",
      "Epoch 37/150\n",
      "140/142 [============================>.] - ETA: 0s - loss: 0.1643 - accuracy: 0.9400\n",
      "Epoch 37: accuracy improved from 0.93884 to 0.93984, saving model to best-model-CICIDS2017.hdf5\n",
      "142/142 [==============================] - 1s 7ms/step - loss: 0.1646 - accuracy: 0.9398\n",
      "Epoch 38/150\n",
      "138/142 [============================>.] - ETA: 0s - loss: 0.1649 - accuracy: 0.9405\n",
      "Epoch 38: accuracy improved from 0.93984 to 0.94075, saving model to best-model-CICIDS2017.hdf5\n",
      "142/142 [==============================] - 1s 7ms/step - loss: 0.1643 - accuracy: 0.9407\n",
      "Epoch 39/150\n",
      "140/142 [============================>.] - ETA: 0s - loss: 0.1620 - accuracy: 0.9423\n",
      "Epoch 39: accuracy improved from 0.94075 to 0.94213, saving model to best-model-CICIDS2017.hdf5\n",
      "142/142 [==============================] - 1s 7ms/step - loss: 0.1624 - accuracy: 0.9421\n",
      "Epoch 40/150\n",
      "142/142 [==============================] - ETA: 0s - loss: 0.1595 - accuracy: 0.9420\n",
      "Epoch 40: accuracy did not improve from 0.94213\n",
      "142/142 [==============================] - 1s 9ms/step - loss: 0.1595 - accuracy: 0.9420\n",
      "Epoch 41/150\n",
      "142/142 [==============================] - ETA: 0s - loss: 0.1594 - accuracy: 0.9420\n",
      "Epoch 41: accuracy did not improve from 0.94213\n",
      "142/142 [==============================] - 1s 10ms/step - loss: 0.1594 - accuracy: 0.9420\n",
      "Epoch 42/150\n",
      "135/142 [===========================>..] - ETA: 0s - loss: 0.1585 - accuracy: 0.9426\n",
      "Epoch 42: accuracy did not improve from 0.94213\n",
      "142/142 [==============================] - 1s 10ms/step - loss: 0.1593 - accuracy: 0.9421\n",
      "Epoch 43/150\n",
      "139/142 [============================>.] - ETA: 0s - loss: 0.1587 - accuracy: 0.9433\n",
      "Epoch 43: accuracy improved from 0.94213 to 0.94301, saving model to best-model-CICIDS2017.hdf5\n",
      "142/142 [==============================] - 1s 7ms/step - loss: 0.1587 - accuracy: 0.9430\n",
      "Epoch 44/150\n",
      "140/142 [============================>.] - ETA: 0s - loss: 0.1557 - accuracy: 0.9440\n",
      "Epoch 44: accuracy improved from 0.94301 to 0.94420, saving model to best-model-CICIDS2017.hdf5\n",
      "142/142 [==============================] - 1s 7ms/step - loss: 0.1555 - accuracy: 0.9442\n",
      "Epoch 45/150\n",
      "136/142 [===========================>..] - ETA: 0s - loss: 0.1556 - accuracy: 0.9444\n",
      "Epoch 45: accuracy improved from 0.94420 to 0.94439, saving model to best-model-CICIDS2017.hdf5\n",
      "142/142 [==============================] - 1s 7ms/step - loss: 0.1552 - accuracy: 0.9444\n",
      "Epoch 46/150\n",
      "137/142 [===========================>..] - ETA: 0s - loss: 0.1547 - accuracy: 0.9444\n",
      "Epoch 46: accuracy improved from 0.94439 to 0.94472, saving model to best-model-CICIDS2017.hdf5\n",
      "142/142 [==============================] - 1s 7ms/step - loss: 0.1542 - accuracy: 0.9447\n",
      "Epoch 47/150\n",
      "140/142 [============================>.] - ETA: 0s - loss: 0.1552 - accuracy: 0.9440\n",
      "Epoch 47: accuracy did not improve from 0.94472\n",
      "142/142 [==============================] - 1s 7ms/step - loss: 0.1550 - accuracy: 0.9441\n",
      "Epoch 48/150\n",
      "136/142 [===========================>..] - ETA: 0s - loss: 0.1540 - accuracy: 0.9440\n",
      "Epoch 48: accuracy did not improve from 0.94472\n",
      "142/142 [==============================] - 1s 7ms/step - loss: 0.1534 - accuracy: 0.9444\n",
      "Epoch 49/150\n",
      "138/142 [============================>.] - ETA: 0s - loss: 0.1529 - accuracy: 0.9457\n",
      "Epoch 49: accuracy improved from 0.94472 to 0.94582, saving model to best-model-CICIDS2017.hdf5\n",
      "142/142 [==============================] - 1s 7ms/step - loss: 0.1526 - accuracy: 0.9458\n",
      "Epoch 50/150\n",
      "139/142 [============================>.] - ETA: 0s - loss: 0.1515 - accuracy: 0.9458\n",
      "Epoch 50: accuracy did not improve from 0.94582\n",
      "142/142 [==============================] - 1s 7ms/step - loss: 0.1514 - accuracy: 0.9457\n",
      "Epoch 51/150\n",
      "141/142 [============================>.] - ETA: 0s - loss: 0.1485 - accuracy: 0.9463\n",
      "Epoch 51: accuracy improved from 0.94582 to 0.94635, saving model to best-model-CICIDS2017.hdf5\n",
      "142/142 [==============================] - 1s 7ms/step - loss: 0.1484 - accuracy: 0.9463\n",
      "Epoch 52/150\n",
      "142/142 [==============================] - ETA: 0s - loss: 0.1472 - accuracy: 0.9478\n",
      "Epoch 52: accuracy improved from 0.94635 to 0.94775, saving model to best-model-CICIDS2017.hdf5\n",
      "142/142 [==============================] - 1s 9ms/step - loss: 0.1472 - accuracy: 0.9478\n",
      "Epoch 53/150\n",
      "140/142 [============================>.] - ETA: 0s - loss: 0.1466 - accuracy: 0.9468\n",
      "Epoch 53: accuracy did not improve from 0.94775\n",
      "142/142 [==============================] - 1s 10ms/step - loss: 0.1467 - accuracy: 0.9468\n",
      "Epoch 54/150\n",
      "142/142 [==============================] - ETA: 0s - loss: 0.1445 - accuracy: 0.9478\n",
      "Epoch 54: accuracy improved from 0.94775 to 0.94781, saving model to best-model-CICIDS2017.hdf5\n",
      "142/142 [==============================] - 1s 10ms/step - loss: 0.1445 - accuracy: 0.9478\n",
      "Epoch 55/150\n",
      "136/142 [===========================>..] - ETA: 0s - loss: 0.1405 - accuracy: 0.9491\n",
      "Epoch 55: accuracy improved from 0.94781 to 0.94922, saving model to best-model-CICIDS2017.hdf5\n",
      "142/142 [==============================] - 1s 8ms/step - loss: 0.1405 - accuracy: 0.9492\n",
      "Epoch 56/150\n",
      "138/142 [============================>.] - ETA: 0s - loss: 0.1371 - accuracy: 0.9501\n",
      "Epoch 56: accuracy improved from 0.94922 to 0.95029, saving model to best-model-CICIDS2017.hdf5\n",
      "142/142 [==============================] - 1s 8ms/step - loss: 0.1367 - accuracy: 0.9503\n",
      "Epoch 57/150\n",
      "136/142 [===========================>..] - ETA: 0s - loss: 0.1363 - accuracy: 0.9506\n",
      "Epoch 57: accuracy improved from 0.95029 to 0.95095, saving model to best-model-CICIDS2017.hdf5\n",
      "142/142 [==============================] - 1s 7ms/step - loss: 0.1352 - accuracy: 0.9510\n",
      "Epoch 58/150\n",
      "139/142 [============================>.] - ETA: 0s - loss: 0.1326 - accuracy: 0.9523\n",
      "Epoch 58: accuracy improved from 0.95095 to 0.95247, saving model to best-model-CICIDS2017.hdf5\n",
      "142/142 [==============================] - 1s 7ms/step - loss: 0.1322 - accuracy: 0.9525\n",
      "Epoch 59/150\n",
      "142/142 [==============================] - ETA: 0s - loss: 0.1317 - accuracy: 0.9529\n",
      "Epoch 59: accuracy improved from 0.95247 to 0.95286, saving model to best-model-CICIDS2017.hdf5\n",
      "142/142 [==============================] - 1s 7ms/step - loss: 0.1317 - accuracy: 0.9529\n",
      "Epoch 60/150\n",
      "137/142 [===========================>..] - ETA: 0s - loss: 0.1308 - accuracy: 0.9526\n",
      "Epoch 60: accuracy did not improve from 0.95286\n",
      "142/142 [==============================] - 1s 7ms/step - loss: 0.1308 - accuracy: 0.9528\n",
      "Epoch 61/150\n",
      "140/142 [============================>.] - ETA: 0s - loss: 0.1277 - accuracy: 0.9538\n",
      "Epoch 61: accuracy improved from 0.95286 to 0.95388, saving model to best-model-CICIDS2017.hdf5\n",
      "142/142 [==============================] - 1s 8ms/step - loss: 0.1275 - accuracy: 0.9539\n",
      "Epoch 62/150\n",
      "135/142 [===========================>..] - ETA: 0s - loss: 0.1241 - accuracy: 0.9547\n",
      "Epoch 62: accuracy improved from 0.95388 to 0.95446, saving model to best-model-CICIDS2017.hdf5\n",
      "142/142 [==============================] - 1s 7ms/step - loss: 0.1249 - accuracy: 0.9545\n",
      "Epoch 63/150\n",
      "137/142 [===========================>..] - ETA: 0s - loss: 0.1235 - accuracy: 0.9557\n",
      "Epoch 63: accuracy improved from 0.95446 to 0.95575, saving model to best-model-CICIDS2017.hdf5\n",
      "142/142 [==============================] - 1s 8ms/step - loss: 0.1233 - accuracy: 0.9558\n",
      "Epoch 64/150\n",
      "138/142 [============================>.] - ETA: 0s - loss: 0.1218 - accuracy: 0.9547\n",
      "Epoch 64: accuracy did not improve from 0.95575\n",
      "142/142 [==============================] - 1s 9ms/step - loss: 0.1218 - accuracy: 0.9548\n",
      "Epoch 65/150\n",
      "142/142 [==============================] - ETA: 0s - loss: 0.1205 - accuracy: 0.9570\n",
      "Epoch 65: accuracy improved from 0.95575 to 0.95702, saving model to best-model-CICIDS2017.hdf5\n",
      "142/142 [==============================] - 1s 10ms/step - loss: 0.1205 - accuracy: 0.9570\n",
      "Epoch 66/150\n",
      "136/142 [===========================>..] - ETA: 0s - loss: 0.1194 - accuracy: 0.9567\n",
      "Epoch 66: accuracy did not improve from 0.95702\n",
      "142/142 [==============================] - 1s 10ms/step - loss: 0.1198 - accuracy: 0.9566\n",
      "Epoch 67/150\n",
      "138/142 [============================>.] - ETA: 0s - loss: 0.1178 - accuracy: 0.9581\n",
      "Epoch 67: accuracy improved from 0.95702 to 0.95774, saving model to best-model-CICIDS2017.hdf5\n",
      "142/142 [==============================] - 1s 8ms/step - loss: 0.1184 - accuracy: 0.9577\n",
      "Epoch 68/150\n",
      "137/142 [===========================>..] - ETA: 0s - loss: 0.1149 - accuracy: 0.9580\n",
      "Epoch 68: accuracy improved from 0.95774 to 0.95824, saving model to best-model-CICIDS2017.hdf5\n",
      "142/142 [==============================] - 1s 8ms/step - loss: 0.1147 - accuracy: 0.9582\n",
      "Epoch 69/150\n",
      "141/142 [============================>.] - ETA: 0s - loss: 0.1147 - accuracy: 0.9588\n",
      "Epoch 69: accuracy improved from 0.95824 to 0.95873, saving model to best-model-CICIDS2017.hdf5\n",
      "142/142 [==============================] - 1s 8ms/step - loss: 0.1150 - accuracy: 0.9587\n",
      "Epoch 70/150\n",
      "136/142 [===========================>..] - ETA: 0s - loss: 0.1134 - accuracy: 0.9592\n",
      "Epoch 70: accuracy improved from 0.95873 to 0.95931, saving model to best-model-CICIDS2017.hdf5\n",
      "142/142 [==============================] - 1s 7ms/step - loss: 0.1132 - accuracy: 0.9593\n",
      "Epoch 71/150\n",
      "136/142 [===========================>..] - ETA: 0s - loss: 0.1117 - accuracy: 0.9597\n",
      "Epoch 71: accuracy improved from 0.95931 to 0.95948, saving model to best-model-CICIDS2017.hdf5\n",
      "142/142 [==============================] - 1s 7ms/step - loss: 0.1121 - accuracy: 0.9595\n",
      "Epoch 72/150\n",
      "140/142 [============================>.] - ETA: 0s - loss: 0.1133 - accuracy: 0.9599\n",
      "Epoch 72: accuracy improved from 0.95948 to 0.95997, saving model to best-model-CICIDS2017.hdf5\n",
      "142/142 [==============================] - 1s 8ms/step - loss: 0.1131 - accuracy: 0.9600\n",
      "Epoch 73/150\n",
      "136/142 [===========================>..] - ETA: 0s - loss: 0.1130 - accuracy: 0.9589\n",
      "Epoch 73: accuracy did not improve from 0.95997\n",
      "142/142 [==============================] - 1s 7ms/step - loss: 0.1127 - accuracy: 0.9590\n",
      "Epoch 74/150\n",
      "137/142 [===========================>..] - ETA: 0s - loss: 0.1101 - accuracy: 0.9608\n",
      "Epoch 74: accuracy improved from 0.95997 to 0.96058, saving model to best-model-CICIDS2017.hdf5\n",
      "142/142 [==============================] - 1s 7ms/step - loss: 0.1106 - accuracy: 0.9606\n",
      "Epoch 75/150\n",
      "141/142 [============================>.] - ETA: 0s - loss: 0.1095 - accuracy: 0.9603\n",
      "Epoch 75: accuracy did not improve from 0.96058\n",
      "142/142 [==============================] - 1s 7ms/step - loss: 0.1098 - accuracy: 0.9602\n",
      "Epoch 76/150\n",
      "137/142 [===========================>..] - ETA: 0s - loss: 0.1081 - accuracy: 0.9612\n",
      "Epoch 76: accuracy improved from 0.96058 to 0.96127, saving model to best-model-CICIDS2017.hdf5\n",
      "142/142 [==============================] - 1s 10ms/step - loss: 0.1082 - accuracy: 0.9613\n",
      "Epoch 77/150\n",
      "139/142 [============================>.] - ETA: 0s - loss: 0.1097 - accuracy: 0.9600\n",
      "Epoch 77: accuracy did not improve from 0.96127\n",
      "142/142 [==============================] - 1s 10ms/step - loss: 0.1095 - accuracy: 0.9601\n",
      "Epoch 78/150\n",
      "136/142 [===========================>..] - ETA: 0s - loss: 0.1087 - accuracy: 0.9604\n",
      "Epoch 78: accuracy did not improve from 0.96127\n",
      "142/142 [==============================] - 1s 10ms/step - loss: 0.1079 - accuracy: 0.9608\n",
      "Epoch 79/150\n",
      "141/142 [============================>.] - ETA: 0s - loss: 0.1082 - accuracy: 0.9614\n",
      "Epoch 79: accuracy improved from 0.96127 to 0.96152, saving model to best-model-CICIDS2017.hdf5\n",
      "142/142 [==============================] - 1s 8ms/step - loss: 0.1081 - accuracy: 0.9615\n",
      "Epoch 80/150\n",
      "139/142 [============================>.] - ETA: 0s - loss: 0.1078 - accuracy: 0.9613\n",
      "Epoch 80: accuracy did not improve from 0.96152\n",
      "142/142 [==============================] - 1s 7ms/step - loss: 0.1075 - accuracy: 0.9613\n",
      "Epoch 81/150\n",
      "142/142 [==============================] - ETA: 0s - loss: 0.1065 - accuracy: 0.9610\n",
      "Epoch 81: accuracy did not improve from 0.96152\n",
      "142/142 [==============================] - 1s 7ms/step - loss: 0.1065 - accuracy: 0.9610\n",
      "Epoch 82/150\n",
      "136/142 [===========================>..] - ETA: 0s - loss: 0.1043 - accuracy: 0.9625\n",
      "Epoch 82: accuracy improved from 0.96152 to 0.96243, saving model to best-model-CICIDS2017.hdf5\n",
      "142/142 [==============================] - 1s 7ms/step - loss: 0.1047 - accuracy: 0.9624\n",
      "Epoch 83/150\n",
      "138/142 [============================>.] - ETA: 0s - loss: 0.1062 - accuracy: 0.9614\n",
      "Epoch 83: accuracy did not improve from 0.96243\n",
      "142/142 [==============================] - 1s 7ms/step - loss: 0.1062 - accuracy: 0.9614\n",
      "Epoch 84/150\n",
      "138/142 [============================>.] - ETA: 0s - loss: 0.1033 - accuracy: 0.9625\n",
      "Epoch 84: accuracy improved from 0.96243 to 0.96262, saving model to best-model-CICIDS2017.hdf5\n",
      "142/142 [==============================] - 1s 7ms/step - loss: 0.1032 - accuracy: 0.9626\n",
      "Epoch 85/150\n",
      "135/142 [===========================>..] - ETA: 0s - loss: 0.1033 - accuracy: 0.9626\n",
      "Epoch 85: accuracy improved from 0.96262 to 0.96279, saving model to best-model-CICIDS2017.hdf5\n",
      "142/142 [==============================] - 1s 8ms/step - loss: 0.1031 - accuracy: 0.9628\n",
      "Epoch 86/150\n",
      "137/142 [===========================>..] - ETA: 0s - loss: 0.1028 - accuracy: 0.9629\n",
      "Epoch 86: accuracy improved from 0.96279 to 0.96301, saving model to best-model-CICIDS2017.hdf5\n",
      "142/142 [==============================] - 1s 7ms/step - loss: 0.1027 - accuracy: 0.9630\n",
      "Epoch 87/150\n",
      "142/142 [==============================] - ETA: 0s - loss: 0.1037 - accuracy: 0.9620\n",
      "Epoch 87: accuracy did not improve from 0.96301\n",
      "142/142 [==============================] - 1s 7ms/step - loss: 0.1037 - accuracy: 0.9620\n",
      "Epoch 88/150\n",
      "138/142 [============================>.] - ETA: 0s - loss: 0.1030 - accuracy: 0.9630\n",
      "Epoch 88: accuracy did not improve from 0.96301\n",
      "142/142 [==============================] - 1s 9ms/step - loss: 0.1027 - accuracy: 0.9629\n",
      "Epoch 89/150\n",
      "138/142 [============================>.] - ETA: 0s - loss: 0.1012 - accuracy: 0.9633\n",
      "Epoch 89: accuracy improved from 0.96301 to 0.96312, saving model to best-model-CICIDS2017.hdf5\n",
      "142/142 [==============================] - 2s 11ms/step - loss: 0.1015 - accuracy: 0.9631\n",
      "Epoch 90/150\n",
      "141/142 [============================>.] - ETA: 0s - loss: 0.1000 - accuracy: 0.9635\n",
      "Epoch 90: accuracy improved from 0.96312 to 0.96351, saving model to best-model-CICIDS2017.hdf5\n",
      "142/142 [==============================] - 1s 10ms/step - loss: 0.1000 - accuracy: 0.9635\n",
      "Epoch 91/150\n",
      "141/142 [============================>.] - ETA: 0s - loss: 0.1029 - accuracy: 0.9625\n",
      "Epoch 91: accuracy did not improve from 0.96351\n",
      "142/142 [==============================] - 1s 8ms/step - loss: 0.1027 - accuracy: 0.9626\n",
      "Epoch 92/150\n",
      "137/142 [===========================>..] - ETA: 0s - loss: 0.1000 - accuracy: 0.9637\n",
      "Epoch 92: accuracy did not improve from 0.96351\n",
      "142/142 [==============================] - 1s 8ms/step - loss: 0.1003 - accuracy: 0.9635\n",
      "Epoch 93/150\n",
      "137/142 [===========================>..] - ETA: 0s - loss: 0.0998 - accuracy: 0.9637\n",
      "Epoch 93: accuracy improved from 0.96351 to 0.96356, saving model to best-model-CICIDS2017.hdf5\n",
      "142/142 [==============================] - 1s 7ms/step - loss: 0.0998 - accuracy: 0.9636\n",
      "Epoch 94/150\n",
      "136/142 [===========================>..] - ETA: 0s - loss: 0.0997 - accuracy: 0.9638\n",
      "Epoch 94: accuracy improved from 0.96356 to 0.96359, saving model to best-model-CICIDS2017.hdf5\n",
      "142/142 [==============================] - 1s 7ms/step - loss: 0.0999 - accuracy: 0.9636\n",
      "Epoch 95/150\n",
      "140/142 [============================>.] - ETA: 0s - loss: 0.0981 - accuracy: 0.9645\n",
      "Epoch 95: accuracy improved from 0.96359 to 0.96461, saving model to best-model-CICIDS2017.hdf5\n",
      "142/142 [==============================] - 1s 8ms/step - loss: 0.0978 - accuracy: 0.9646\n",
      "Epoch 96/150\n",
      "136/142 [===========================>..] - ETA: 0s - loss: 0.0983 - accuracy: 0.9643\n",
      "Epoch 96: accuracy did not improve from 0.96461\n",
      "142/142 [==============================] - 1s 7ms/step - loss: 0.0984 - accuracy: 0.9643\n",
      "Epoch 97/150\n",
      "141/142 [============================>.] - ETA: 0s - loss: 0.0987 - accuracy: 0.9636\n",
      "Epoch 97: accuracy did not improve from 0.96461\n",
      "142/142 [==============================] - 1s 8ms/step - loss: 0.0986 - accuracy: 0.9637\n",
      "Epoch 98/150\n",
      "142/142 [==============================] - ETA: 0s - loss: 0.0962 - accuracy: 0.9645\n",
      "Epoch 98: accuracy did not improve from 0.96461\n",
      "142/142 [==============================] - 1s 7ms/step - loss: 0.0962 - accuracy: 0.9645\n",
      "Epoch 99/150\n",
      "137/142 [===========================>..] - ETA: 0s - loss: 0.0948 - accuracy: 0.9651\n",
      "Epoch 99: accuracy improved from 0.96461 to 0.96477, saving model to best-model-CICIDS2017.hdf5\n",
      "142/142 [==============================] - 1s 7ms/step - loss: 0.0954 - accuracy: 0.9648\n",
      "Epoch 100/150\n",
      "139/142 [============================>.] - ETA: 0s - loss: 0.0960 - accuracy: 0.9652\n",
      "Epoch 100: accuracy improved from 0.96477 to 0.96497, saving model to best-model-CICIDS2017.hdf5\n",
      "142/142 [==============================] - 1s 9ms/step - loss: 0.0964 - accuracy: 0.9650\n",
      "Epoch 101/150\n",
      "138/142 [============================>.] - ETA: 0s - loss: 0.0955 - accuracy: 0.9652\n",
      "Epoch 101: accuracy improved from 0.96497 to 0.96524, saving model to best-model-CICIDS2017.hdf5\n",
      "142/142 [==============================] - 1s 10ms/step - loss: 0.0954 - accuracy: 0.9652\n",
      "Epoch 102/150\n",
      "136/142 [===========================>..] - ETA: 0s - loss: 0.0948 - accuracy: 0.9655\n",
      "Epoch 102: accuracy did not improve from 0.96524\n",
      "142/142 [==============================] - 1s 10ms/step - loss: 0.0953 - accuracy: 0.9652\n",
      "Epoch 103/150\n",
      "139/142 [============================>.] - ETA: 0s - loss: 0.0952 - accuracy: 0.9648\n",
      "Epoch 103: accuracy did not improve from 0.96524\n",
      "142/142 [==============================] - 1s 7ms/step - loss: 0.0950 - accuracy: 0.9648\n",
      "Epoch 104/150\n",
      "137/142 [===========================>..] - ETA: 0s - loss: 0.0947 - accuracy: 0.9654\n",
      "Epoch 104: accuracy improved from 0.96524 to 0.96552, saving model to best-model-CICIDS2017.hdf5\n",
      "142/142 [==============================] - 1s 7ms/step - loss: 0.0943 - accuracy: 0.9655\n",
      "Epoch 105/150\n",
      "136/142 [===========================>..] - ETA: 0s - loss: 0.0938 - accuracy: 0.9657\n",
      "Epoch 105: accuracy did not improve from 0.96552\n",
      "142/142 [==============================] - 1s 7ms/step - loss: 0.0943 - accuracy: 0.9654\n",
      "Epoch 106/150\n",
      "141/142 [============================>.] - ETA: 0s - loss: 0.0932 - accuracy: 0.9660\n",
      "Epoch 106: accuracy improved from 0.96552 to 0.96602, saving model to best-model-CICIDS2017.hdf5\n",
      "142/142 [==============================] - 1s 7ms/step - loss: 0.0932 - accuracy: 0.9660\n",
      "Epoch 107/150\n",
      "136/142 [===========================>..] - ETA: 0s - loss: 0.0920 - accuracy: 0.9668\n",
      "Epoch 107: accuracy improved from 0.96602 to 0.96646, saving model to best-model-CICIDS2017.hdf5\n",
      "142/142 [==============================] - 1s 7ms/step - loss: 0.0926 - accuracy: 0.9665\n",
      "Epoch 108/150\n",
      "138/142 [============================>.] - ETA: 0s - loss: 0.0932 - accuracy: 0.9656\n",
      "Epoch 108: accuracy did not improve from 0.96646\n",
      "142/142 [==============================] - 1s 7ms/step - loss: 0.0931 - accuracy: 0.9656\n",
      "Epoch 109/150\n",
      "141/142 [============================>.] - ETA: 0s - loss: 0.0917 - accuracy: 0.9658\n",
      "Epoch 109: accuracy did not improve from 0.96646\n",
      "142/142 [==============================] - 1s 8ms/step - loss: 0.0917 - accuracy: 0.9658\n",
      "Epoch 110/150\n",
      "135/142 [===========================>..] - ETA: 0s - loss: 0.0907 - accuracy: 0.9665\n",
      "Epoch 110: accuracy did not improve from 0.96646\n",
      "142/142 [==============================] - 1s 8ms/step - loss: 0.0909 - accuracy: 0.9664\n",
      "Epoch 111/150\n",
      "142/142 [==============================] - ETA: 0s - loss: 0.0911 - accuracy: 0.9657\n",
      "Epoch 111: accuracy did not improve from 0.96646\n",
      "142/142 [==============================] - 1s 8ms/step - loss: 0.0911 - accuracy: 0.9657\n",
      "Epoch 112/150\n",
      "139/142 [============================>.] - ETA: 0s - loss: 0.0908 - accuracy: 0.9657\n",
      "Epoch 112: accuracy did not improve from 0.96646\n",
      "142/142 [==============================] - 1s 10ms/step - loss: 0.0910 - accuracy: 0.9656\n",
      "Epoch 113/150\n",
      "142/142 [==============================] - ETA: 0s - loss: 0.0892 - accuracy: 0.9665\n",
      "Epoch 113: accuracy did not improve from 0.96646\n",
      "142/142 [==============================] - 1s 9ms/step - loss: 0.0892 - accuracy: 0.9665\n",
      "Epoch 114/150\n",
      "138/142 [============================>.] - ETA: 0s - loss: 0.0891 - accuracy: 0.9665\n",
      "Epoch 114: accuracy improved from 0.96646 to 0.96659, saving model to best-model-CICIDS2017.hdf5\n",
      "142/142 [==============================] - 1s 10ms/step - loss: 0.0890 - accuracy: 0.9666\n",
      "Epoch 115/150\n",
      "140/142 [============================>.] - ETA: 0s - loss: 0.0894 - accuracy: 0.9669\n",
      "Epoch 115: accuracy improved from 0.96659 to 0.96671, saving model to best-model-CICIDS2017.hdf5\n",
      "142/142 [==============================] - 1s 8ms/step - loss: 0.0897 - accuracy: 0.9667\n",
      "Epoch 116/150\n",
      "140/142 [============================>.] - ETA: 0s - loss: 0.0898 - accuracy: 0.9661\n",
      "Epoch 116: accuracy did not improve from 0.96671\n",
      "142/142 [==============================] - 1s 8ms/step - loss: 0.0897 - accuracy: 0.9662\n",
      "Epoch 117/150\n",
      "136/142 [===========================>..] - ETA: 0s - loss: 0.0902 - accuracy: 0.9665\n",
      "Epoch 117: accuracy improved from 0.96671 to 0.96676, saving model to best-model-CICIDS2017.hdf5\n",
      "142/142 [==============================] - 1s 8ms/step - loss: 0.0898 - accuracy: 0.9668\n",
      "Epoch 118/150\n",
      "137/142 [===========================>..] - ETA: 0s - loss: 0.0901 - accuracy: 0.9669\n",
      "Epoch 118: accuracy improved from 0.96676 to 0.96706, saving model to best-model-CICIDS2017.hdf5\n",
      "142/142 [==============================] - 1s 9ms/step - loss: 0.0900 - accuracy: 0.9671\n",
      "Epoch 119/150\n",
      "141/142 [============================>.] - ETA: 0s - loss: 0.0874 - accuracy: 0.9678\n",
      "Epoch 119: accuracy improved from 0.96706 to 0.96773, saving model to best-model-CICIDS2017.hdf5\n",
      "142/142 [==============================] - 2s 15ms/step - loss: 0.0875 - accuracy: 0.9677\n",
      "Epoch 120/150\n",
      "142/142 [==============================] - ETA: 0s - loss: 0.0886 - accuracy: 0.9669\n",
      "Epoch 120: accuracy did not improve from 0.96773\n",
      "142/142 [==============================] - 2s 17ms/step - loss: 0.0886 - accuracy: 0.9669\n",
      "Epoch 121/150\n",
      "142/142 [==============================] - ETA: 0s - loss: 0.0878 - accuracy: 0.9674\n",
      "Epoch 121: accuracy did not improve from 0.96773\n",
      "142/142 [==============================] - 3s 24ms/step - loss: 0.0878 - accuracy: 0.9674\n",
      "Epoch 122/150\n",
      "142/142 [==============================] - ETA: 0s - loss: 0.0900 - accuracy: 0.9668\n",
      "Epoch 122: accuracy did not improve from 0.96773\n",
      "142/142 [==============================] - 3s 19ms/step - loss: 0.0900 - accuracy: 0.9668\n",
      "Epoch 123/150\n",
      "141/142 [============================>.] - ETA: 0s - loss: 0.0867 - accuracy: 0.9682\n",
      "Epoch 123: accuracy improved from 0.96773 to 0.96819, saving model to best-model-CICIDS2017.hdf5\n",
      "142/142 [==============================] - 2s 16ms/step - loss: 0.0868 - accuracy: 0.9682\n",
      "Epoch 124/150\n",
      "142/142 [==============================] - ETA: 0s - loss: 0.0877 - accuracy: 0.9682\n",
      "Epoch 124: accuracy did not improve from 0.96819\n",
      "142/142 [==============================] - 2s 15ms/step - loss: 0.0877 - accuracy: 0.9682\n",
      "Epoch 125/150\n",
      "142/142 [==============================] - ETA: 0s - loss: 0.0862 - accuracy: 0.9683\n",
      "Epoch 125: accuracy improved from 0.96819 to 0.96833, saving model to best-model-CICIDS2017.hdf5\n",
      "142/142 [==============================] - 2s 18ms/step - loss: 0.0862 - accuracy: 0.9683\n",
      "Epoch 126/150\n",
      "141/142 [============================>.] - ETA: 0s - loss: 0.0859 - accuracy: 0.9676\n",
      "Epoch 126: accuracy did not improve from 0.96833\n",
      "142/142 [==============================] - 2s 16ms/step - loss: 0.0859 - accuracy: 0.9676\n",
      "Epoch 127/150\n",
      "140/142 [============================>.] - ETA: 0s - loss: 0.0865 - accuracy: 0.9678\n",
      "Epoch 127: accuracy did not improve from 0.96833\n",
      "142/142 [==============================] - 3s 18ms/step - loss: 0.0864 - accuracy: 0.9678\n",
      "Epoch 128/150\n",
      "141/142 [============================>.] - ETA: 0s - loss: 0.0863 - accuracy: 0.9677\n",
      "Epoch 128: accuracy did not improve from 0.96833\n",
      "142/142 [==============================] - 2s 15ms/step - loss: 0.0863 - accuracy: 0.9678\n",
      "Epoch 129/150\n",
      "139/142 [============================>.] - ETA: 0s - loss: 0.0840 - accuracy: 0.9690\n",
      "Epoch 129: accuracy improved from 0.96833 to 0.96908, saving model to best-model-CICIDS2017.hdf5\n",
      "142/142 [==============================] - 2s 13ms/step - loss: 0.0839 - accuracy: 0.9691\n",
      "Epoch 130/150\n",
      "138/142 [============================>.] - ETA: 0s - loss: 0.0862 - accuracy: 0.9676\n",
      "Epoch 130: accuracy did not improve from 0.96908\n",
      "142/142 [==============================] - 2s 11ms/step - loss: 0.0861 - accuracy: 0.9677\n",
      "Epoch 131/150\n",
      "138/142 [============================>.] - ETA: 0s - loss: 0.0843 - accuracy: 0.9685\n",
      "Epoch 131: accuracy did not improve from 0.96908\n",
      "142/142 [==============================] - 1s 9ms/step - loss: 0.0847 - accuracy: 0.9683\n",
      "Epoch 132/150\n",
      "141/142 [============================>.] - ETA: 0s - loss: 0.0872 - accuracy: 0.9677\n",
      "Epoch 132: accuracy did not improve from 0.96908\n",
      "142/142 [==============================] - 1s 7ms/step - loss: 0.0871 - accuracy: 0.9678\n",
      "Epoch 133/150\n",
      "135/142 [===========================>..] - ETA: 0s - loss: 0.0851 - accuracy: 0.9688\n",
      "Epoch 133: accuracy did not improve from 0.96908\n",
      "142/142 [==============================] - 1s 7ms/step - loss: 0.0849 - accuracy: 0.9687\n",
      "Epoch 134/150\n",
      "142/142 [==============================] - ETA: 0s - loss: 0.0846 - accuracy: 0.9685\n",
      "Epoch 134: accuracy did not improve from 0.96908\n",
      "142/142 [==============================] - 1s 8ms/step - loss: 0.0846 - accuracy: 0.9685\n",
      "Epoch 135/150\n",
      "142/142 [==============================] - ETA: 0s - loss: 0.0842 - accuracy: 0.9685\n",
      "Epoch 135: accuracy did not improve from 0.96908\n",
      "142/142 [==============================] - 2s 11ms/step - loss: 0.0842 - accuracy: 0.9685\n",
      "Epoch 136/150\n",
      "142/142 [==============================] - ETA: 0s - loss: 0.0838 - accuracy: 0.9690\n",
      "Epoch 136: accuracy did not improve from 0.96908\n",
      "142/142 [==============================] - 2s 13ms/step - loss: 0.0838 - accuracy: 0.9690\n",
      "Epoch 137/150\n",
      "139/142 [============================>.] - ETA: 0s - loss: 0.0831 - accuracy: 0.9693\n",
      "Epoch 137: accuracy improved from 0.96908 to 0.96930, saving model to best-model-CICIDS2017.hdf5\n",
      "142/142 [==============================] - 3s 21ms/step - loss: 0.0830 - accuracy: 0.9693\n",
      "Epoch 138/150\n",
      "142/142 [==============================] - ETA: 0s - loss: 0.0838 - accuracy: 0.9680\n",
      "Epoch 138: accuracy did not improve from 0.96930\n",
      "142/142 [==============================] - 2s 13ms/step - loss: 0.0838 - accuracy: 0.9680\n",
      "Epoch 139/150\n",
      "139/142 [============================>.] - ETA: 0s - loss: 0.0826 - accuracy: 0.9693\n",
      "Epoch 139: accuracy did not improve from 0.96930\n",
      "142/142 [==============================] - 2s 12ms/step - loss: 0.0827 - accuracy: 0.9693\n",
      "Epoch 140/150\n",
      "142/142 [==============================] - ETA: 0s - loss: 0.0817 - accuracy: 0.9703\n",
      "Epoch 140: accuracy improved from 0.96930 to 0.97029, saving model to best-model-CICIDS2017.hdf5\n",
      "142/142 [==============================] - 1s 8ms/step - loss: 0.0817 - accuracy: 0.9703\n",
      "Epoch 141/150\n",
      "142/142 [==============================] - ETA: 0s - loss: 0.0819 - accuracy: 0.9696\n",
      "Epoch 141: accuracy did not improve from 0.97029\n",
      "142/142 [==============================] - 1s 9ms/step - loss: 0.0819 - accuracy: 0.9696\n",
      "Epoch 142/150\n",
      "142/142 [==============================] - ETA: 0s - loss: 0.0806 - accuracy: 0.9697\n",
      "Epoch 142: accuracy did not improve from 0.97029\n",
      "142/142 [==============================] - 1s 9ms/step - loss: 0.0806 - accuracy: 0.9697\n",
      "Epoch 143/150\n",
      "140/142 [============================>.] - ETA: 0s - loss: 0.0817 - accuracy: 0.9694\n",
      "Epoch 143: accuracy did not improve from 0.97029\n",
      "142/142 [==============================] - 1s 8ms/step - loss: 0.0817 - accuracy: 0.9694\n",
      "Epoch 144/150\n",
      "137/142 [===========================>..] - ETA: 0s - loss: 0.0879 - accuracy: 0.9679\n",
      "Epoch 144: accuracy did not improve from 0.97029\n",
      "142/142 [==============================] - 1s 8ms/step - loss: 0.0880 - accuracy: 0.9677\n",
      "Epoch 145/150\n",
      "141/142 [============================>.] - ETA: 0s - loss: 0.0829 - accuracy: 0.9697\n",
      "Epoch 145: accuracy did not improve from 0.97029\n",
      "142/142 [==============================] - 1s 9ms/step - loss: 0.0830 - accuracy: 0.9695\n",
      "Epoch 146/150\n",
      "139/142 [============================>.] - ETA: 0s - loss: 0.0813 - accuracy: 0.9695\n",
      "Epoch 146: accuracy did not improve from 0.97029\n",
      "142/142 [==============================] - 1s 10ms/step - loss: 0.0813 - accuracy: 0.9695\n",
      "Epoch 147/150\n",
      "139/142 [============================>.] - ETA: 0s - loss: 0.0811 - accuracy: 0.9702\n",
      "Epoch 147: accuracy did not improve from 0.97029\n",
      "142/142 [==============================] - 2s 14ms/step - loss: 0.0815 - accuracy: 0.9700\n",
      "Epoch 148/150\n",
      "141/142 [============================>.] - ETA: 0s - loss: 0.0804 - accuracy: 0.9707\n",
      "Epoch 148: accuracy improved from 0.97029 to 0.97073, saving model to best-model-CICIDS2017.hdf5\n",
      "142/142 [==============================] - 2s 14ms/step - loss: 0.0803 - accuracy: 0.9707\n",
      "Epoch 149/150\n",
      "140/142 [============================>.] - ETA: 0s - loss: 0.0799 - accuracy: 0.9708\n",
      "Epoch 149: accuracy did not improve from 0.97073\n",
      "142/142 [==============================] - 2s 11ms/step - loss: 0.0797 - accuracy: 0.9707\n",
      "Epoch 150/150\n",
      "138/142 [============================>.] - ETA: 0s - loss: 0.0796 - accuracy: 0.9701\n",
      "Epoch 150: accuracy did not improve from 0.97073\n",
      "142/142 [==============================] - 2s 14ms/step - loss: 0.0795 - accuracy: 0.9702\n"
     ]
    }
   ],
   "source": [
    "history = model.fit(X_train_cicids2017, ytrain, epochs=150, batch_size=256, verbose=1, callbacks=callbacks_list)"
   ]
  },
  {
   "cell_type": "code",
   "execution_count": null,
   "metadata": {
    "colab": {
     "base_uri": "https://localhost:8080/"
    },
    "id": "MAVHOjKkrwBS",
    "outputId": "8d7544ab-80ce-4d2d-8b99-013ba3f9e963"
   },
   "outputs": [
    {
     "name": "stdout",
     "output_type": "stream",
     "text": [
      "2443/2443 [==============================] - 12s 4ms/step\n",
      "HybridModel_CICIDS2017 Accuracy: 97.3082582\n",
      "HybridModel_CICIDS2017 Precision: 96.0735651\n",
      "HybridModel_CICIDS2017 Recall: 98.3920593\n",
      "HybridModel_CICIDS2017 F1-Score: 97.2189912\n",
      "HybridModel_CICIDS2017 Training Time: 21.44392 seconds\n"
     ]
    }
   ],
   "source": [
    "random_seed_function()\n",
    "t1 = time.time()\n",
    "Y_pred_test = model.predict(np.vstack([X_train_cicids2017,X_test_cicids2017,X_train_cicids2017]))\n",
    "t2 = time.time()\n",
    "y_pred_test = np.argmax(Y_pred_test, axis=1)\n",
    "Y_test = np.argmax(np.vstack([ytrain,ytest,ytrain]), axis=1)\n",
    "\n",
    "HybridModel_accuracy_CICIDS2017 = accuracy_score(Y_test, y_pred_test) * 100\n",
    "HybridModel_precision_CICIDS2017 = precision_score(Y_test, y_pred_test) * 100\n",
    "HybridModel_recall_CICIDS2017 = recall_score(Y_test, y_pred_test) * 100\n",
    "HybridModel_f1_CICIDS2017 = f1_score(Y_test, y_pred_test) * 100\n",
    "print(\"HybridModel_CICIDS2017 Accuracy: {:.7f}\".format(HybridModel_accuracy_CICIDS2017))\n",
    "print(\"HybridModel_CICIDS2017 Precision: {:.7f}\".format(HybridModel_precision_CICIDS2017))\n",
    "print(\"HybridModel_CICIDS2017 Recall: {:.7f}\".format(HybridModel_recall_CICIDS2017))\n",
    "print(\"HybridModel_CICIDS2017 F1-Score: {:.7f}\".format(HybridModel_f1_CICIDS2017))\n",
    "print(\"HybridModel_CICIDS2017 Training Time: {:.5f} seconds\".format(t2 - t1))"
   ]
  },
  {
   "cell_type": "markdown",
   "metadata": {
    "id": "nCbsekcBFEQh"
   },
   "source": [
    "## <div class=\"alert alert-success\">Visualization of simulation results starts here.</div>"
   ]
  },
  {
   "cell_type": "code",
   "execution_count": null,
   "metadata": {
    "id": "fPp2ZugLFF3v"
   },
   "outputs": [],
   "source": [
    "IoTID20_Model = [\"Hybrid Deep Model\", \"Linear Discriminant Analysis\", \"Quadratic Discriminant Analysis\", \"Support Vector Machine\", \"Multi-Layer Preceptron\"]\n",
    "IoTID20_Accuracies = [HybridModel_accuracy_IoTID20, LDA_accuracy_IoTID20, QDA_accuracy_IoTID20, SVM_accuracy_IoTID20, MLP_accuracy_IoTID20]\n",
    "IoTID20_Precisions = [HybridModel_precision_IoTID20, LDA_precision_IoTID20, QDA_precision_IoTID20, SVM_precision_IoTID20, MLP_precision_IoTID20]\n",
    "IoTID20_Recalls = [HybridModel_recall_IoTID20, LDA_recall_IoTID20, QDA_recall_IoTID20, SVM_recall_IoTID20, MLP_recall_IoTID20]\n",
    "IoTID20_F1 = [HybridModel_f1_IoTID20, LDA_f1_IoTID20, QDA_f1_IoTID20, SVM_f1_IoTID20, MLP_f1_IoTID20]"
   ]
  },
  {
   "cell_type": "code",
   "execution_count": null,
   "metadata": {
    "id": "cVStBHzLFHTs"
   },
   "outputs": [],
   "source": [
    "CICIDS2017_Model = [\"Hybrid Deep Model\", \"Linear Discriminant Analysis\", \"Quadratic Discriminant Analysis\", \"Support Vector Machine\", \"Multi-Layer Preceptron\"]\n",
    "CICIDS2017_Accuracies = [HybridModel_accuracy_CICIDS2017, LDA_accuracy_CICIDS2017, QDA_accuracy_CICIDS2017, SVM_accuracy_CICIDS2017, MLP_accuracy_CICIDS2017]\n",
    "CICIDS2017_Precisions = [HybridModel_precision_CICIDS2017, LDA_precision_CICIDS2017, QDA_precision_CICIDS2017, SVM_precision_CICIDS2017, MLP_precision_CICIDS2017]\n",
    "CICIDS2017_Recalls = [HybridModel_recall_CICIDS2017, LDA_recall_CICIDS2017, QDA_recall_CICIDS2017, SVM_recall_CICIDS2017, MLP_recall_CICIDS2017]\n",
    "CICIDS2017_F1 = [HybridModel_f1_CICIDS2017, LDA_f1_CICIDS2017, QDA_f1_CICIDS2017, SVM_f1_CICIDS2017, MLP_f1_CICIDS2017]"
   ]
  },
  {
   "cell_type": "markdown",
   "metadata": {
    "id": "UxaxjBoIFJsO"
   },
   "source": [
    "# Accuracies plot on IoTID20 Dataset"
   ]
  },
  {
   "cell_type": "code",
   "execution_count": null,
   "metadata": {
    "colab": {
     "base_uri": "https://localhost:8080/",
     "height": 598
    },
    "id": "E2nf2AwmFLBo",
    "outputId": "74004fe6-e27c-481b-aa64-867436ee2f6e"
   },
   "outputs": [
    {
     "data": {
      "image/png": "[encoded data removed]",
      "text/plain": [
       "<Figure size 1000x600 with 1 Axes>"
      ]
     },
     "metadata": {},
     "output_type": "display_data"
    }
   ],
   "source": [
    "import matplotlib.pyplot as plt\n",
    "\n",
    "IoTID20_Model__ = [\"Hybrid Deep Model\", \"Linear Discriminant Analysis\", \"Quadratic Discriminant Analysis\", \"Support Vector Machine\", \"Multi-Layer Preceptron\"]\n",
    "IoTID20_Accuracies__ = [HybridModel_accuracy_IoTID20,  LDA_accuracy_IoTID20, QDA_accuracy_IoTID20, SVM_accuracy_IoTID20, MLP_accuracy_IoTID20]\n",
    "\n",
    "fig, ax = plt.subplots(figsize=(10, 6))\n",
    "ax.scatter(IoTID20_Model__, IoTID20_Accuracies__)\n",
    "plt.subplots_adjust(bottom=0.4)\n",
    "ax.set_xticklabels(IoTID20_Model__, rotation=90, ha=\"right\")\n",
    "plt.subplots_adjust(bottom=0.4)\n",
    "\n",
    "ax.set_xlabel('Model')\n",
    "ax.set_ylabel('Accuracy (%)')\n",
    "ax.set_title('Accuracy of different models')\n",
    "\n",
    "plt.savefig('Accuracies_IoTID20.png')\n",
    "plt.show()\n"
   ]
  },
  {
   "cell_type": "markdown",
   "metadata": {
    "id": "MyXm5E3FFNAe"
   },
   "source": [
    "# Accuracies plot on CICIDS2017 Dataset"
   ]
  },
  {
   "cell_type": "code",
   "execution_count": null,
   "metadata": {
    "colab": {
     "base_uri": "https://localhost:8080/",
     "height": 598
    },
    "id": "AuWCdtr3FOg-",
    "outputId": "85bb7c9c-45be-451f-b415-23c5e55fdb48"
   },
   "outputs": [
    {
     "data": {
      "image/png": "[encoded data removed]",
      "text/plain": [
       "<Figure size 1000x600 with 1 Axes>"
      ]
     },
     "metadata": {},
     "output_type": "display_data"
    }
   ],
   "source": [
    "import matplotlib.pyplot as plt\n",
    "\n",
    "CICIDS2017_Model__ = [\"Hybrid Deep Model\", \"Linear Discriminant Analysis\", \"Quadratic Discriminant Analysis\", \"Support Vector Machine\", \"Multi-Layer Preceptron\"]\n",
    "CICIDS2017_Accuracies__ = [HybridModel_accuracy_CICIDS2017, LDA_accuracy_CICIDS2017, QDA_accuracy_CICIDS2017, SVM_accuracy_CICIDS2017, MLP_accuracy_CICIDS2017]\n",
    "\n",
    "fig, ax = plt.subplots(figsize=(10, 6))\n",
    "ax.scatter(CICIDS2017_Model__, CICIDS2017_Accuracies__)\n",
    "plt.subplots_adjust(bottom=0.4)\n",
    "ax.set_xticklabels(CICIDS2017_Model__, rotation=90, ha=\"right\")\n",
    "ax.set_xlabel('Model')\n",
    "ax.set_ylabel('Accuracy (%)')\n",
    "ax.set_title('Accuracy of different models')\n",
    "\n",
    "plt.savefig('Accuracies_CICIDS2017.png')\n",
    "plt.show()\n"
   ]
  },
  {
   "cell_type": "markdown",
   "metadata": {
    "id": "BB6Z_I5vFUcf"
   },
   "source": [
    "# Complete Table of IoTID20 Dataset"
   ]
  },
  {
   "cell_type": "code",
   "execution_count": null,
   "metadata": {
    "colab": {
     "base_uri": "https://localhost:8080/"
    },
    "id": "c8cmv8waFTC9",
    "outputId": "86f484c1-6094-4c09-8d12-067b00a4a509"
   },
   "outputs": [
    {
     "name": "stdout",
     "output_type": "stream",
     "text": [
      "╒═════════════════════════════════╤════════════╤═══════════════════╤════════════════╤═════════════╕\n",
      "│ Model (IoTID20 Dataset)         │   Accuracy │   Precision Score │   Recall Score │   F-1 Score │\n",
      "╞═════════════════════════════════╪════════════╪═══════════════════╪════════════════╪═════════════╡\n",
      "│ Hybrid Deep Model               │    99.8161 │           99.9433 │        99.7078 │     99.8254 │\n",
      "├─────────────────────────────────┼────────────┼───────────────────┼────────────────┼─────────────┤\n",
      "│ Linear Discriminant Analysis    │    95.4437 │           99.3811 │        95.7411 │     97.5271 │\n",
      "├─────────────────────────────────┼────────────┼───────────────────┼────────────────┼─────────────┤\n",
      "│ Quadratic Discriminant Analysis │    75.7794 │           99.8854 │        74.276  │     85.1979 │\n",
      "├─────────────────────────────────┼────────────┼───────────────────┼────────────────┼─────────────┤\n",
      "│ Support Vector Machine          │    94.7242 │           99.2007 │        95.1448 │     97.1304 │\n",
      "├─────────────────────────────────┼────────────┼───────────────────┼────────────────┼─────────────┤\n",
      "│ Multi-Layer Preceptron          │    99.3605 │           99.5748 │        99.7445 │     99.6596 │\n",
      "╘═════════════════════════════════╧════════════╧═══════════════════╧════════════════╧═════════════╛\n"
     ]
    }
   ],
   "source": [
    "from tabulate import tabulate\n",
    "\n",
    "table_data = []\n",
    "for i in range(len(IoTID20_Model)):\n",
    "    table_data.append([IoTID20_Model[i], IoTID20_Accuracies[i], IoTID20_Precisions[i], IoTID20_Recalls[i], IoTID20_F1[i]])\n",
    "\n",
    "print(tabulate(table_data, headers=[\"Model (IoTID20 Dataset)\", \"Accuracy\", \"Precision Score\", \"Recall Score\", \"F-1 Score\"], tablefmt=\"fancy_grid\"))"
   ]
  },
  {
   "cell_type": "markdown",
   "metadata": {
    "id": "TumPqywaFWWn"
   },
   "source": [
    "# Complete Table of CICIDS2017 Dataset"
   ]
  },
  {
   "cell_type": "code",
   "execution_count": null,
   "metadata": {
    "colab": {
     "base_uri": "https://localhost:8080/"
    },
    "id": "gWB9F70RFY2E",
    "outputId": "ad16510a-b736-49b9-c798-e67fe6db04e0"
   },
   "outputs": [
    {
     "name": "stdout",
     "output_type": "stream",
     "text": [
      "╒═════════════════════════════════╤════════════╤═══════════════════╤════════════════╤═════════════╕\n",
      "│ Model (CICIDS2017 Dataset)      │   Accuracy │   Precision Score │   Recall Score │   F-1 Score │\n",
      "╞═════════════════════════════════╪════════════╪═══════════════════╪════════════════╪═════════════╡\n",
      "│ Hybrid Deep Model               │    97.3083 │           96.0736 │        98.3921 │     97.219  │\n",
      "├─────────────────────────────────┼────────────┼───────────────────┼────────────────┼─────────────┤\n",
      "│ Linear Discriminant Analysis    │    85.6033 │           58.5825 │        94.0444 │     72.1938 │\n",
      "├─────────────────────────────────┼────────────┼───────────────────┼────────────────┼─────────────┤\n",
      "│ Quadratic Discriminant Analysis │    80.5335 │           50.5351 │        96.5333 │     66.3409 │\n",
      "├─────────────────────────────────┼────────────┼───────────────────┼────────────────┼─────────────┤\n",
      "│ Support Vector Machine          │    88.4473 │           64.0262 │        95.5556 │     76.6762 │\n",
      "├─────────────────────────────────┼────────────┼───────────────────┼────────────────┼─────────────┤\n",
      "│ Multi-Layer Preceptron          │    96.2374 │           85.9621 │        96.8889 │     91.099  │\n",
      "╘═════════════════════════════════╧════════════╧═══════════════════╧════════════════╧═════════════╛\n"
     ]
    }
   ],
   "source": [
    "from tabulate import tabulate\n",
    "\n",
    "table_data = []\n",
    "for i in range(len(CICIDS2017_Model)):\n",
    "    table_data.append([CICIDS2017_Model[i], CICIDS2017_Accuracies[i], CICIDS2017_Precisions[i], CICIDS2017_Recalls[i], CICIDS2017_F1[i]])\n",
    "\n",
    "print(tabulate(table_data, headers=[\"Model (CICIDS2017 Dataset)\", \"Accuracy\", \"Precision Score\", \"Recall Score\", \"F-1 Score\"], tablefmt=\"fancy_grid\"))"
   ]
  },
  {
   "cell_type": "markdown",
   "metadata": {
    "id": "hoT2qpO-FcIL"
   },
   "source": [
    "# Precision, REcall, F1 Score bar plot for IoTID20 Dataset"
   ]
  },
  {
   "cell_type": "code",
   "execution_count": null,
   "metadata": {
    "colab": {
     "base_uri": "https://localhost:8080/",
     "height": 528
    },
    "id": "tE6CEfGUFdkU",
    "outputId": "1146fde2-44fd-4569-e4cd-69932e02b6b8"
   },
   "outputs": [
    {
     "data": {
      "image/png": "[encoded data removed]",
      "text/plain": [
       "<Figure size 1000x500 with 1 Axes>"
      ]
     },
     "metadata": {},
     "output_type": "display_data"
    }
   ],
   "source": [
    "import matplotlib.pyplot as plt\n",
    "import numpy as np\n",
    "\n",
    "\n",
    "model_names = IoTID20_Model\n",
    "\n",
    "bar_width = 0.25\n",
    "\n",
    "r1 = np.arange(len(IoTID20_Precisions))\n",
    "r2 = [x + bar_width for x in r1]\n",
    "r3 = [x + bar_width for x in r2]\n",
    "\n",
    "plt.figure(figsize=(10,5))\n",
    "\n",
    "plt.bar(r1, IoTID20_Precisions, color='#1f77b4', width=bar_width, edgecolor='white', label='Precision')\n",
    "plt.bar(r2, IoTID20_Recalls, color='#ff7f0e', width=bar_width, edgecolor='white', label='Recall')\n",
    "plt.bar(r3, IoTID20_F1, color='#2ca02c', width=bar_width, edgecolor='white', label='F1-Score')\n",
    "\n",
    "plt.xlabel('Model', fontweight='bold')\n",
    "plt.xticks([r + bar_width for r in range(len(IoTID20_Precisions))], model_names, rotation=90)\n",
    "plt.subplots_adjust(bottom=0.4)\n",
    "\n",
    "plt.ylabel('Score', fontweight='bold')\n",
    "plt.legend(bbox_to_anchor=(-0.05, 1))\n",
    "plt.savefig('P_R_F_IoTID20.png')\n",
    "\n",
    "plt.show()"
   ]
  },
  {
   "cell_type": "markdown",
   "metadata": {
    "id": "ai6jGOo_Ffhm"
   },
   "source": [
    "# Precision, REcall, F1 Score bar plot for CICIDS2017 Dataset"
   ]
  },
  {
   "cell_type": "code",
   "execution_count": null,
   "metadata": {
    "colab": {
     "base_uri": "https://localhost:8080/",
     "height": 528
    },
    "id": "hLbWiI9UFg0H",
    "outputId": "2cf12512-0c2d-461b-e16a-ae482e44bfdb"
   },
   "outputs": [
    {
     "data": {
      "image/png": "[encoded data removed]",
      "text/plain": [
       "<Figure size 1000x500 with 1 Axes>"
      ]
     },
     "metadata": {},
     "output_type": "display_data"
    }
   ],
   "source": [
    "import matplotlib.pyplot as plt\n",
    "import numpy as np\n",
    "\n",
    "\n",
    "model_names = CICIDS2017_Model\n",
    "\n",
    "bar_width = 0.25\n",
    "\n",
    "r1 = np.arange(len(CICIDS2017_Precisions))\n",
    "r2 = [x + bar_width for x in r1]\n",
    "r3 = [x + bar_width for x in r2]\n",
    "\n",
    "plt.figure(figsize=(10,5))\n",
    "\n",
    "plt.bar(r1, CICIDS2017_Precisions, color='#1f77b4', width=bar_width, edgecolor='white', label='Precision')\n",
    "plt.bar(r2, CICIDS2017_Recalls, color='#ff7f0e', width=bar_width, edgecolor='white', label='Recall')\n",
    "plt.bar(r3, CICIDS2017_F1, color='#2ca02c', width=bar_width, edgecolor='white', label='F1-Score')\n",
    "\n",
    "plt.xlabel('Model', fontweight='bold')\n",
    "plt.xticks([r + bar_width for r in range(len(CICIDS2017_Precisions))], model_names, rotation=90)\n",
    "plt.subplots_adjust(bottom=0.4)\n",
    "\n",
    "plt.ylabel('Score', fontweight='bold')\n",
    "plt.legend(bbox_to_anchor=(-0.05, 1))\n",
    "\n",
    "plt.savefig('P_R_F_CICIDS2017.png')\n",
    "plt.show()"
   ]
  },
  {
   "cell_type": "code",
   "execution_count": null,
   "metadata": {
    "id": "SJC2c61Mveqa"
   },
   "outputs": [],
   "source": []
  }
 ],
 "metadata": {
  "accelerator": "GPU",
  "colab": {
   "provenance": []
  },
  "gpuClass": "standard",
  "kernelspec": {
   "display_name": "Python 3 (ipykernel)",
   "language": "python",
   "name": "python3"
  },
  "language_info": {
   "codemirror_mode": {
    "name": "ipython",
    "version": 3
   },
   "file_extension": ".py",
   "mimetype": "text/x-python",
   "name": "python",
   "nbconvert_exporter": "python",
   "pygments_lexer": "ipython3",
   "version": "3.11.4"
  }
 },
 "nbformat": 4,
 "nbformat_minor": 4
}
